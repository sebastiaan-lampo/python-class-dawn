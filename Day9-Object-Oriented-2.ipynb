{
 "cells": [
  {
   "cell_type": "markdown",
   "metadata": {},
   "source": [
    "# ICT 778-005 Day 9: Object Oriented Programming"
   ]
  },
  {
   "cell_type": "markdown",
   "metadata": {},
   "source": [
    "In this lecture we will expend on classes and we will cover some of the concept in Panda Library"
   ]
  },
  {
   "cell_type": "markdown",
   "metadata": {},
   "source": [
    "# Person Class"
   ]
  },
  {
   "cell_type": "markdown",
   "metadata": {},
   "source": [
    "Assume we want to create a class to keep track of people's info. For each person added we want to keep track of name, address, age, salary, sex, and occupation.\n",
    "\n",
    "To do so first we need to create a class called `person` then after that we start adding the attributed for this class"
   ]
  },
  {
   "cell_type": "code",
   "execution_count": 36,
   "metadata": {},
   "outputs": [],
   "source": [
    "class person:\n",
    "    \n",
    "    def __init__(self,pId,pName,pAddress,pAge,pSalary,pSex,pOccupation):\n",
    "        self.id=pId\n",
    "        self.name=pName\n",
    "        self.address=pAddress\n",
    "        self.age=pAge\n",
    "        self.salary=pSalary\n",
    "        self.sex=pSex\n",
    "        self.occupation=pOccupation\n",
    "    def __str__(self):\n",
    "        return str(self.id) + \"-\"+self.name"
   ]
  },
  {
   "cell_type": "markdown",
   "metadata": {},
   "source": [
    "Now let's read data from a file and create a list of people"
   ]
  },
  {
   "cell_type": "code",
   "execution_count": 29,
   "metadata": {},
   "outputs": [
    {
     "name": "stdout",
     "output_type": "stream",
     "text": [
      "1-Mike\n",
      "2-Kristine\n",
      "3-Chris\n",
      "4-sam\n"
     ]
    }
   ],
   "source": [
    "import csv\n",
    "people=[]\n",
    "with open('people.csv', 'r') as file:\n",
    "    reader = csv.reader(file, delimiter=',')\n",
    "    next(reader, None) #remove header\n",
    "    for row in reader:\n",
    "        people.append(person(int(row[0]),row[1],row[2],int(row[3]),float(row[4]),row[5],row[6]))\n",
    "\n",
    "for pp in people:\n",
    "    print(pp)\n",
    "        \n"
   ]
  },
  {
   "cell_type": "markdown",
   "metadata": {},
   "source": [
    "Now, let's add a new person to the list only and only if this person was not already added. To check if a person is already added we just want to make sure the Id is not the same. To do so we want to change what the `==` operator means. To do so we need to override the `__eq__()` function in the class"
   ]
  },
  {
   "cell_type": "code",
   "execution_count": 28,
   "metadata": {},
   "outputs": [],
   "source": [
    "\n",
    "class person:\n",
    "    \n",
    "    def __init__(self,pId,pName,pAddress,pAge,pSalary,pSex,pOccupation):\n",
    "        self.id=pId\n",
    "        self.name=pName\n",
    "        self.address=pAddress\n",
    "        self.age=pAge\n",
    "        self.salary=pSalary\n",
    "        self.sex=pSex\n",
    "        self.occupation=pOccupation\n",
    "    def __str__(self):\n",
    "        return str(self.id) + \"-\"+self.name\n",
    "    \n",
    "    def __eq__(self,other):\n",
    "        if self.id==other.id:\n",
    "            return True\n",
    "        else:\n",
    "            return False"
   ]
  },
  {
   "cell_type": "code",
   "execution_count": 26,
   "metadata": {},
   "outputs": [
    {
     "name": "stdout",
     "output_type": "stream",
     "text": [
      "1-Mike\n",
      "2-Kristine\n",
      "3-Chris\n",
      "4-sam\n",
      "4-Sali\n",
      "1-Mike\n"
     ]
    }
   ],
   "source": [
    "pp=person(1,\"Mike\",\"Calgary-Canada\",18,4000,\"m\",\"Occuntant\") \n",
    "\n",
    "\n",
    "if pp not in people:\n",
    "    people.append(pp)\n",
    "\n",
    "for pp in people:\n",
    "    print(pp)"
   ]
  },
  {
   "cell_type": "markdown",
   "metadata": {},
   "source": [
    "In the example above Mike has been added although there was another person with the same id\n"
   ]
  },
  {
   "cell_type": "code",
   "execution_count": 30,
   "metadata": {},
   "outputs": [
    {
     "name": "stdout",
     "output_type": "stream",
     "text": [
      "1-Mike\n",
      "2-Kristine\n",
      "3-Chris\n",
      "4-sam\n"
     ]
    }
   ],
   "source": [
    "pp=person(1,\"Mike\",\"Calgary-Canada\",18,4000,\"m\",\"Occuntant\") \n",
    "\n",
    "\n",
    "if pp not in people:\n",
    "    people.append(pp)\n",
    "\n",
    "for pp in people:\n",
    "    print(pp)"
   ]
  },
  {
   "cell_type": "markdown",
   "metadata": {},
   "source": [
    "In the example above Mike was not added as there is another person with the same id"
   ]
  },
  {
   "cell_type": "markdown",
   "metadata": {},
   "source": [
    "Now the address attribute is a composite attribute. Which means its value can be split into city and country. How I can do that? \n",
    "\n",
    "We can create another class called address with two attributes namely `city` and `country`"
   ]
  },
  {
   "cell_type": "code",
   "execution_count": 32,
   "metadata": {},
   "outputs": [],
   "source": [
    "class address:\n",
    "    \n",
    "    def __init__(self,city,country):\n",
    "        self.city=city\n",
    "        self.country=country\n",
    "    def __str__(self):\n",
    "        return self.city+\"-\"+self.country"
   ]
  },
  {
   "cell_type": "code",
   "execution_count": 33,
   "metadata": {},
   "outputs": [],
   "source": [
    "import csv\n",
    "people=[]\n",
    "with open('people.csv', 'r') as file:\n",
    "    reader = csv.reader(file, delimiter=',')\n",
    "    next(reader, None) #remove header\n",
    "    for row in reader:\n",
    "        pAddress=address(row[2].split(\"-\")[0].strip(),row[2].split(\"-\")[1])\n",
    "        people.append(person(int(row[0]),row[1],pAddress,int(row[3]),float(row[4]),row[5],row[6]))"
   ]
  },
  {
   "cell_type": "code",
   "execution_count": 35,
   "metadata": {},
   "outputs": [
    {
     "name": "stdout",
     "output_type": "stream",
     "text": [
      "Calgary\n",
      "Edmonton\n",
      "Vancouver\n",
      "Vtoronto\n"
     ]
    }
   ],
   "source": [
    "for p in people:\n",
    "    print(p.address.city)"
   ]
  },
  {
   "cell_type": "markdown",
   "metadata": {},
   "source": [
    "Can we have a class called people where we can manipulate people's info such as a new person, remove a person, check if we have people, etc? "
   ]
  },
  {
   "cell_type": "code",
   "execution_count": null,
   "metadata": {},
   "outputs": [],
   "source": [
    "class people:\n",
    "    import random\n",
    "    \n",
    "    def __init__(self):\n",
    "        self.people=[]\n",
    "    def removePerson(self,person):\n",
    "        if person in self.people:\n",
    "            self.people.remove(person)\n",
    "    def addPerson(self,person):\n",
    "        if person not in self.people:\n",
    "            self.people.append(person)\n",
    "    def checkIfEmpty(self):\n",
    "        if len(self.people)==0:\n",
    "            return True\n",
    "        else:\n",
    "            return False\n",
    "    def shufflePeople(self):\n",
    "        return random.shuffle(self.people)\n",
    "    \n",
    "        "
   ]
  },
  {
   "cell_type": "markdown",
   "metadata": {},
   "source": [
    "## Inheritance\n",
    "\n",
    "\n",
    "Inheritance is a way of creating a new class for using details of an existing class. The new class is a derived class from the parent class.\n",
    "\n",
    "Now let's assume some of the people are plumbers and we need to keep track of that. Then we can create a class called `plumber` that inherits all the functions from the people class and also has its own."
   ]
  },
  {
   "cell_type": "code",
   "execution_count": 37,
   "metadata": {},
   "outputs": [],
   "source": [
    "class people:\n",
    "    import random\n",
    "    \n",
    "    def __init__(self):\n",
    "        self.people=[]\n",
    "    def removePerson(self,person):\n",
    "        if person in self.people:\n",
    "            self.people.remove(person)\n",
    "    def addPerson(self,person):\n",
    "        if person not in self.people:\n",
    "            self.people.append(person)\n",
    "    def checkIfEmpty(self):\n",
    "        if len(self.people)==0:\n",
    "            return True\n",
    "        else:\n",
    "            return False\n",
    "    def shufflePeople(self):\n",
    "        return random.shuffle(self.people)\n",
    "    def whoIsThis(self):\n",
    "        print(\"I am a person\")"
   ]
  },
  {
   "cell_type": "code",
   "execution_count": 39,
   "metadata": {},
   "outputs": [],
   "source": [
    "class plumber(people):\n",
    "    def __init__(self):\n",
    "        super().__init__()\n",
    "    def whoIsThis(self):\n",
    "        print(\"I am a plumber\")"
   ]
  },
  {
   "cell_type": "code",
   "execution_count": 41,
   "metadata": {},
   "outputs": [
    {
     "name": "stdout",
     "output_type": "stream",
     "text": [
      "I am a plumber\n",
      "0\n"
     ]
    }
   ],
   "source": [
    "plum=plumber()\n",
    "plum.whoIsThis()\n",
    "print(len(plum.people))"
   ]
  },
  {
   "cell_type": "markdown",
   "metadata": {},
   "source": [
    "In general Object-Oriented Programming makes the program easy to understand as well as efficient. Code can be shared, redused along with data being safe and secure with data abstraction"
   ]
  },
  {
   "cell_type": "markdown",
   "metadata": {},
   "source": [
    " # Brief Intro To Panda"
   ]
  },
  {
   "cell_type": "markdown",
   "metadata": {},
   "source": [
    "Pandas is one of the major Python packages for data analysis. In this lecture, we will cover the foundations of this library\n",
    "\n",
    "You should first make sure to import the library\n",
    "\n",
    "Often data loaded into panda is in a CSV file (comma separated)\n",
    "\n",
    "In this lecture, we will use `books.csv` uploaded on D2L. We'll import the Pandas package and then read the data into Jupyter."
   ]
  },
  {
   "cell_type": "code",
   "execution_count": 2,
   "metadata": {},
   "outputs": [],
   "source": [
    "import pandas as pd\n",
    "import numpy as np \n",
    "\n",
    "bookdata = pd.read_csv('books.csv')"
   ]
  },
  {
   "cell_type": "markdown",
   "metadata": {},
   "source": [
    "Now the `book.csv` is imported as a `Dataframe` object. This would provide us to use functions provided by the datatframe object\n",
    "\n",
    "We can view the `bookdata` object by simply typing `bookdata` variable in a Jupyter cell."
   ]
  },
  {
   "cell_type": "code",
   "execution_count": 3,
   "metadata": {},
   "outputs": [
    {
     "data": {
      "text/html": [
       "<div>\n",
       "<style scoped>\n",
       "    .dataframe tbody tr th:only-of-type {\n",
       "        vertical-align: middle;\n",
       "    }\n",
       "\n",
       "    .dataframe tbody tr th {\n",
       "        vertical-align: top;\n",
       "    }\n",
       "\n",
       "    .dataframe thead th {\n",
       "        text-align: right;\n",
       "    }\n",
       "</style>\n",
       "<table border=\"1\" class=\"dataframe\">\n",
       "  <thead>\n",
       "    <tr style=\"text-align: right;\">\n",
       "      <th></th>\n",
       "      <th>Title</th>\n",
       "      <th>Author</th>\n",
       "      <th>Genre</th>\n",
       "      <th>Pages</th>\n",
       "      <th>Publisher</th>\n",
       "    </tr>\n",
       "  </thead>\n",
       "  <tbody>\n",
       "    <tr>\n",
       "      <td>0</td>\n",
       "      <td>Fundamentals of Wavelets</td>\n",
       "      <td>Goswami, Jaideva</td>\n",
       "      <td>signal_processing</td>\n",
       "      <td>228</td>\n",
       "      <td>Wiley</td>\n",
       "    </tr>\n",
       "    <tr>\n",
       "      <td>1</td>\n",
       "      <td>Data Smart</td>\n",
       "      <td>Foreman, John</td>\n",
       "      <td>data_science</td>\n",
       "      <td>235</td>\n",
       "      <td>Wiley</td>\n",
       "    </tr>\n",
       "    <tr>\n",
       "      <td>2</td>\n",
       "      <td>God Created the Integers</td>\n",
       "      <td>Hawking, Stephen</td>\n",
       "      <td>mathematics</td>\n",
       "      <td>197</td>\n",
       "      <td>Penguin</td>\n",
       "    </tr>\n",
       "    <tr>\n",
       "      <td>3</td>\n",
       "      <td>Superfreakonomics</td>\n",
       "      <td>Dubner, Stephen</td>\n",
       "      <td>economics</td>\n",
       "      <td>179</td>\n",
       "      <td>HarperCollins</td>\n",
       "    </tr>\n",
       "    <tr>\n",
       "      <td>4</td>\n",
       "      <td>Orientalism</td>\n",
       "      <td>Said, Edward</td>\n",
       "      <td>history</td>\n",
       "      <td>197</td>\n",
       "      <td>Penguin</td>\n",
       "    </tr>\n",
       "    <tr>\n",
       "      <td>...</td>\n",
       "      <td>...</td>\n",
       "      <td>...</td>\n",
       "      <td>...</td>\n",
       "      <td>...</td>\n",
       "      <td>...</td>\n",
       "    </tr>\n",
       "    <tr>\n",
       "      <td>206</td>\n",
       "      <td>Structure and Randomness</td>\n",
       "      <td>Tao, Terence</td>\n",
       "      <td>mathematics</td>\n",
       "      <td>252</td>\n",
       "      <td>NaN</td>\n",
       "    </tr>\n",
       "    <tr>\n",
       "      <td>207</td>\n",
       "      <td>Image Processing with MATLAB</td>\n",
       "      <td>Eddins, Steve</td>\n",
       "      <td>signal_processing</td>\n",
       "      <td>241</td>\n",
       "      <td>NaN</td>\n",
       "    </tr>\n",
       "    <tr>\n",
       "      <td>208</td>\n",
       "      <td>Animal Farm</td>\n",
       "      <td>Orwell, George</td>\n",
       "      <td>fiction</td>\n",
       "      <td>180</td>\n",
       "      <td>NaN</td>\n",
       "    </tr>\n",
       "    <tr>\n",
       "      <td>209</td>\n",
       "      <td>Idiot, The</td>\n",
       "      <td>Dostoevsky, Fyodor</td>\n",
       "      <td>fiction</td>\n",
       "      <td>197</td>\n",
       "      <td>NaN</td>\n",
       "    </tr>\n",
       "    <tr>\n",
       "      <td>210</td>\n",
       "      <td>Christmas Carol, A</td>\n",
       "      <td>Dickens, Charles</td>\n",
       "      <td>fiction</td>\n",
       "      <td>196</td>\n",
       "      <td>NaN</td>\n",
       "    </tr>\n",
       "  </tbody>\n",
       "</table>\n",
       "<p>211 rows × 5 columns</p>\n",
       "</div>"
      ],
      "text/plain": [
       "                            Title              Author              Genre  \\\n",
       "0        Fundamentals of Wavelets    Goswami, Jaideva  signal_processing   \n",
       "1                      Data Smart       Foreman, John       data_science   \n",
       "2        God Created the Integers    Hawking, Stephen        mathematics   \n",
       "3               Superfreakonomics     Dubner, Stephen          economics   \n",
       "4                     Orientalism        Said, Edward            history   \n",
       "..                            ...                 ...                ...   \n",
       "206      Structure and Randomness        Tao, Terence        mathematics   \n",
       "207  Image Processing with MATLAB       Eddins, Steve  signal_processing   \n",
       "208                   Animal Farm      Orwell, George            fiction   \n",
       "209                    Idiot, The  Dostoevsky, Fyodor            fiction   \n",
       "210            Christmas Carol, A    Dickens, Charles            fiction   \n",
       "\n",
       "     Pages      Publisher  \n",
       "0      228          Wiley  \n",
       "1      235          Wiley  \n",
       "2      197        Penguin  \n",
       "3      179  HarperCollins  \n",
       "4      197        Penguin  \n",
       "..     ...            ...  \n",
       "206    252            NaN  \n",
       "207    241            NaN  \n",
       "208    180            NaN  \n",
       "209    197            NaN  \n",
       "210    196            NaN  \n",
       "\n",
       "[211 rows x 5 columns]"
      ]
     },
     "execution_count": 3,
     "metadata": {},
     "output_type": "execute_result"
    }
   ],
   "source": [
    "bookdata"
   ]
  },
  {
   "cell_type": "markdown",
   "metadata": {},
   "source": [
    "To print the first top 5 rows we can use the `head()` function"
   ]
  },
  {
   "cell_type": "code",
   "execution_count": 11,
   "metadata": {},
   "outputs": [
    {
     "data": {
      "text/html": [
       "<div>\n",
       "<style scoped>\n",
       "    .dataframe tbody tr th:only-of-type {\n",
       "        vertical-align: middle;\n",
       "    }\n",
       "\n",
       "    .dataframe tbody tr th {\n",
       "        vertical-align: top;\n",
       "    }\n",
       "\n",
       "    .dataframe thead th {\n",
       "        text-align: right;\n",
       "    }\n",
       "</style>\n",
       "<table border=\"1\" class=\"dataframe\">\n",
       "  <thead>\n",
       "    <tr style=\"text-align: right;\">\n",
       "      <th></th>\n",
       "      <th>Title</th>\n",
       "      <th>Author</th>\n",
       "      <th>Genre</th>\n",
       "      <th>Pages</th>\n",
       "      <th>Publisher</th>\n",
       "    </tr>\n",
       "  </thead>\n",
       "  <tbody>\n",
       "    <tr>\n",
       "      <td>0</td>\n",
       "      <td>Fundamentals of Wavelets</td>\n",
       "      <td>Goswami, Jaideva</td>\n",
       "      <td>signal_processing</td>\n",
       "      <td>228</td>\n",
       "      <td>Wiley</td>\n",
       "    </tr>\n",
       "    <tr>\n",
       "      <td>1</td>\n",
       "      <td>Data Smart</td>\n",
       "      <td>Foreman, John</td>\n",
       "      <td>data_science</td>\n",
       "      <td>235</td>\n",
       "      <td>Wiley</td>\n",
       "    </tr>\n",
       "    <tr>\n",
       "      <td>2</td>\n",
       "      <td>God Created the Integers</td>\n",
       "      <td>Hawking, Stephen</td>\n",
       "      <td>mathematics</td>\n",
       "      <td>197</td>\n",
       "      <td>Penguin</td>\n",
       "    </tr>\n",
       "    <tr>\n",
       "      <td>3</td>\n",
       "      <td>Superfreakonomics</td>\n",
       "      <td>Dubner, Stephen</td>\n",
       "      <td>economics</td>\n",
       "      <td>179</td>\n",
       "      <td>HarperCollins</td>\n",
       "    </tr>\n",
       "    <tr>\n",
       "      <td>4</td>\n",
       "      <td>Orientalism</td>\n",
       "      <td>Said, Edward</td>\n",
       "      <td>history</td>\n",
       "      <td>197</td>\n",
       "      <td>Penguin</td>\n",
       "    </tr>\n",
       "  </tbody>\n",
       "</table>\n",
       "</div>"
      ],
      "text/plain": [
       "                      Title            Author              Genre  Pages  \\\n",
       "0  Fundamentals of Wavelets  Goswami, Jaideva  signal_processing    228   \n",
       "1                Data Smart     Foreman, John       data_science    235   \n",
       "2  God Created the Integers  Hawking, Stephen        mathematics    197   \n",
       "3         Superfreakonomics   Dubner, Stephen          economics    179   \n",
       "4               Orientalism      Said, Edward            history    197   \n",
       "\n",
       "       Publisher  \n",
       "0          Wiley  \n",
       "1          Wiley  \n",
       "2        Penguin  \n",
       "3  HarperCollins  \n",
       "4        Penguin  "
      ]
     },
     "execution_count": 11,
     "metadata": {},
     "output_type": "execute_result"
    }
   ],
   "source": [
    "bookdata.head()"
   ]
  },
  {
   "cell_type": "markdown",
   "metadata": {},
   "source": [
    "To print column names we can use `columns` attribute"
   ]
  },
  {
   "cell_type": "code",
   "execution_count": 12,
   "metadata": {},
   "outputs": [
    {
     "data": {
      "text/plain": [
       "Index(['Title', 'Author', 'Genre', 'Pages', 'Publisher'], dtype='object')"
      ]
     },
     "execution_count": 12,
     "metadata": {},
     "output_type": "execute_result"
    }
   ],
   "source": [
    "bookdata.columns"
   ]
  },
  {
   "cell_type": "markdown",
   "metadata": {},
   "source": [
    "To only display certain rows, use slicing. We'll display rows 8 through 16."
   ]
  },
  {
   "cell_type": "code",
   "execution_count": 4,
   "metadata": {},
   "outputs": [
    {
     "data": {
      "text/html": [
       "<div>\n",
       "<style scoped>\n",
       "    .dataframe tbody tr th:only-of-type {\n",
       "        vertical-align: middle;\n",
       "    }\n",
       "\n",
       "    .dataframe tbody tr th {\n",
       "        vertical-align: top;\n",
       "    }\n",
       "\n",
       "    .dataframe thead th {\n",
       "        text-align: right;\n",
       "    }\n",
       "</style>\n",
       "<table border=\"1\" class=\"dataframe\">\n",
       "  <thead>\n",
       "    <tr style=\"text-align: right;\">\n",
       "      <th></th>\n",
       "      <th>Title</th>\n",
       "      <th>Author</th>\n",
       "      <th>Genre</th>\n",
       "      <th>Pages</th>\n",
       "      <th>Publisher</th>\n",
       "    </tr>\n",
       "  </thead>\n",
       "  <tbody>\n",
       "    <tr>\n",
       "      <td>8</td>\n",
       "      <td>Image Processing &amp; Mathematical Morphology</td>\n",
       "      <td>Shih, Frank</td>\n",
       "      <td>signal_processing</td>\n",
       "      <td>241</td>\n",
       "      <td>CRC</td>\n",
       "    </tr>\n",
       "    <tr>\n",
       "      <td>9</td>\n",
       "      <td>How to Think Like Sherlock Holmes</td>\n",
       "      <td>Konnikova, Maria</td>\n",
       "      <td>psychology</td>\n",
       "      <td>240</td>\n",
       "      <td>Penguin</td>\n",
       "    </tr>\n",
       "    <tr>\n",
       "      <td>10</td>\n",
       "      <td>Data Scientists at Work</td>\n",
       "      <td>Sebastian Gutierrez</td>\n",
       "      <td>data_science</td>\n",
       "      <td>230</td>\n",
       "      <td>Apress</td>\n",
       "    </tr>\n",
       "    <tr>\n",
       "      <td>11</td>\n",
       "      <td>Slaughterhouse Five</td>\n",
       "      <td>Vonnegut, Kurt</td>\n",
       "      <td>fiction</td>\n",
       "      <td>198</td>\n",
       "      <td>Random House</td>\n",
       "    </tr>\n",
       "    <tr>\n",
       "      <td>12</td>\n",
       "      <td>Birth of a Theorem</td>\n",
       "      <td>Villani, Cedric</td>\n",
       "      <td>mathematics</td>\n",
       "      <td>234</td>\n",
       "      <td>Bodley Head</td>\n",
       "    </tr>\n",
       "    <tr>\n",
       "      <td>13</td>\n",
       "      <td>Structure &amp; Interpretation of Computer Programs</td>\n",
       "      <td>Sussman, Gerald</td>\n",
       "      <td>computer_science</td>\n",
       "      <td>240</td>\n",
       "      <td>MIT Press</td>\n",
       "    </tr>\n",
       "    <tr>\n",
       "      <td>14</td>\n",
       "      <td>Age of Wrath, The</td>\n",
       "      <td>Eraly, Abraham</td>\n",
       "      <td>history</td>\n",
       "      <td>238</td>\n",
       "      <td>Penguin</td>\n",
       "    </tr>\n",
       "    <tr>\n",
       "      <td>15</td>\n",
       "      <td>Trial, The</td>\n",
       "      <td>Kafka, Frank</td>\n",
       "      <td>fiction</td>\n",
       "      <td>198</td>\n",
       "      <td>Random House</td>\n",
       "    </tr>\n",
       "  </tbody>\n",
       "</table>\n",
       "</div>"
      ],
      "text/plain": [
       "                                              Title               Author  \\\n",
       "8        Image Processing & Mathematical Morphology          Shih, Frank   \n",
       "9                 How to Think Like Sherlock Holmes     Konnikova, Maria   \n",
       "10                          Data Scientists at Work  Sebastian Gutierrez   \n",
       "11                              Slaughterhouse Five       Vonnegut, Kurt   \n",
       "12                               Birth of a Theorem      Villani, Cedric   \n",
       "13  Structure & Interpretation of Computer Programs      Sussman, Gerald   \n",
       "14                                Age of Wrath, The       Eraly, Abraham   \n",
       "15                                       Trial, The         Kafka, Frank   \n",
       "\n",
       "                Genre  Pages     Publisher  \n",
       "8   signal_processing    241           CRC  \n",
       "9          psychology    240       Penguin  \n",
       "10       data_science    230        Apress  \n",
       "11            fiction    198  Random House  \n",
       "12        mathematics    234   Bodley Head  \n",
       "13   computer_science    240     MIT Press  \n",
       "14            history    238       Penguin  \n",
       "15            fiction    198  Random House  "
      ]
     },
     "execution_count": 4,
     "metadata": {},
     "output_type": "execute_result"
    }
   ],
   "source": [
    "bookdata[8:16]"
   ]
  },
  {
   "cell_type": "markdown",
   "metadata": {},
   "source": [
    "We can also display specific columns of the dataframe by using a similar technique to accessing dictionary values by key. Instead of specifying a key, we now specify the column name."
   ]
  },
  {
   "cell_type": "code",
   "execution_count": 9,
   "metadata": {},
   "outputs": [
    {
     "data": {
      "text/plain": [
       "0        Goswami, Jaideva\n",
       "1           Foreman, John\n",
       "2        Hawking, Stephen\n",
       "3         Dubner, Stephen\n",
       "4            Said, Edward\n",
       "              ...        \n",
       "206          Tao, Terence\n",
       "207         Eddins, Steve\n",
       "208        Orwell, George\n",
       "209    Dostoevsky, Fyodor\n",
       "210      Dickens, Charles\n",
       "Name: Author, Length: 211, dtype: object"
      ]
     },
     "execution_count": 9,
     "metadata": {},
     "output_type": "execute_result"
    }
   ],
   "source": [
    "# Display all of the book authors.\n",
    "file_authors = bookdata['Author']\n",
    "file_authors"
   ]
  },
  {
   "cell_type": "code",
   "execution_count": 14,
   "metadata": {},
   "outputs": [
    {
     "data": {
      "text/html": [
       "<div>\n",
       "<style scoped>\n",
       "    .dataframe tbody tr th:only-of-type {\n",
       "        vertical-align: middle;\n",
       "    }\n",
       "\n",
       "    .dataframe tbody tr th {\n",
       "        vertical-align: top;\n",
       "    }\n",
       "\n",
       "    .dataframe thead th {\n",
       "        text-align: right;\n",
       "    }\n",
       "</style>\n",
       "<table border=\"1\" class=\"dataframe\">\n",
       "  <thead>\n",
       "    <tr style=\"text-align: right;\">\n",
       "      <th></th>\n",
       "      <th>Author</th>\n",
       "      <th>Publisher</th>\n",
       "    </tr>\n",
       "  </thead>\n",
       "  <tbody>\n",
       "    <tr>\n",
       "      <td>0</td>\n",
       "      <td>Goswami, Jaideva</td>\n",
       "      <td>Wiley</td>\n",
       "    </tr>\n",
       "    <tr>\n",
       "      <td>1</td>\n",
       "      <td>Foreman, John</td>\n",
       "      <td>Wiley</td>\n",
       "    </tr>\n",
       "    <tr>\n",
       "      <td>2</td>\n",
       "      <td>Hawking, Stephen</td>\n",
       "      <td>Penguin</td>\n",
       "    </tr>\n",
       "    <tr>\n",
       "      <td>3</td>\n",
       "      <td>Dubner, Stephen</td>\n",
       "      <td>HarperCollins</td>\n",
       "    </tr>\n",
       "    <tr>\n",
       "      <td>4</td>\n",
       "      <td>Said, Edward</td>\n",
       "      <td>Penguin</td>\n",
       "    </tr>\n",
       "    <tr>\n",
       "      <td>...</td>\n",
       "      <td>...</td>\n",
       "      <td>...</td>\n",
       "    </tr>\n",
       "    <tr>\n",
       "      <td>206</td>\n",
       "      <td>Tao, Terence</td>\n",
       "      <td>NaN</td>\n",
       "    </tr>\n",
       "    <tr>\n",
       "      <td>207</td>\n",
       "      <td>Eddins, Steve</td>\n",
       "      <td>NaN</td>\n",
       "    </tr>\n",
       "    <tr>\n",
       "      <td>208</td>\n",
       "      <td>Orwell, George</td>\n",
       "      <td>NaN</td>\n",
       "    </tr>\n",
       "    <tr>\n",
       "      <td>209</td>\n",
       "      <td>Dostoevsky, Fyodor</td>\n",
       "      <td>NaN</td>\n",
       "    </tr>\n",
       "    <tr>\n",
       "      <td>210</td>\n",
       "      <td>Dickens, Charles</td>\n",
       "      <td>NaN</td>\n",
       "    </tr>\n",
       "  </tbody>\n",
       "</table>\n",
       "<p>211 rows × 2 columns</p>\n",
       "</div>"
      ],
      "text/plain": [
       "                 Author      Publisher\n",
       "0      Goswami, Jaideva          Wiley\n",
       "1         Foreman, John          Wiley\n",
       "2      Hawking, Stephen        Penguin\n",
       "3       Dubner, Stephen  HarperCollins\n",
       "4          Said, Edward        Penguin\n",
       "..                  ...            ...\n",
       "206        Tao, Terence            NaN\n",
       "207       Eddins, Steve            NaN\n",
       "208      Orwell, George            NaN\n",
       "209  Dostoevsky, Fyodor            NaN\n",
       "210    Dickens, Charles            NaN\n",
       "\n",
       "[211 rows x 2 columns]"
      ]
     },
     "execution_count": 14,
     "metadata": {},
     "output_type": "execute_result"
    }
   ],
   "source": [
    "# Display all of the book authors AND publishers.\n",
    "file_authors_and_publishers = bookdata[['Author','Publisher']]\n",
    "file_authors_and_publishers"
   ]
  },
  {
   "cell_type": "markdown",
   "metadata": {},
   "source": [
    "We can select whihc rows and columns to be printed using `iloc`"
   ]
  },
  {
   "cell_type": "code",
   "execution_count": 20,
   "metadata": {},
   "outputs": [
    {
     "data": {
      "text/html": [
       "<div>\n",
       "<style scoped>\n",
       "    .dataframe tbody tr th:only-of-type {\n",
       "        vertical-align: middle;\n",
       "    }\n",
       "\n",
       "    .dataframe tbody tr th {\n",
       "        vertical-align: top;\n",
       "    }\n",
       "\n",
       "    .dataframe thead th {\n",
       "        text-align: right;\n",
       "    }\n",
       "</style>\n",
       "<table border=\"1\" class=\"dataframe\">\n",
       "  <thead>\n",
       "    <tr style=\"text-align: right;\">\n",
       "      <th></th>\n",
       "      <th>Genre</th>\n",
       "      <th>Pages</th>\n",
       "    </tr>\n",
       "  </thead>\n",
       "  <tbody>\n",
       "    <tr>\n",
       "      <td>8</td>\n",
       "      <td>signal_processing</td>\n",
       "      <td>241</td>\n",
       "    </tr>\n",
       "    <tr>\n",
       "      <td>9</td>\n",
       "      <td>psychology</td>\n",
       "      <td>240</td>\n",
       "    </tr>\n",
       "    <tr>\n",
       "      <td>10</td>\n",
       "      <td>data_science</td>\n",
       "      <td>230</td>\n",
       "    </tr>\n",
       "    <tr>\n",
       "      <td>11</td>\n",
       "      <td>fiction</td>\n",
       "      <td>198</td>\n",
       "    </tr>\n",
       "    <tr>\n",
       "      <td>12</td>\n",
       "      <td>mathematics</td>\n",
       "      <td>234</td>\n",
       "    </tr>\n",
       "    <tr>\n",
       "      <td>13</td>\n",
       "      <td>computer_science</td>\n",
       "      <td>240</td>\n",
       "    </tr>\n",
       "    <tr>\n",
       "      <td>14</td>\n",
       "      <td>history</td>\n",
       "      <td>238</td>\n",
       "    </tr>\n",
       "    <tr>\n",
       "      <td>15</td>\n",
       "      <td>fiction</td>\n",
       "      <td>198</td>\n",
       "    </tr>\n",
       "  </tbody>\n",
       "</table>\n",
       "</div>"
      ],
      "text/plain": [
       "                Genre  Pages\n",
       "8   signal_processing    241\n",
       "9          psychology    240\n",
       "10       data_science    230\n",
       "11            fiction    198\n",
       "12        mathematics    234\n",
       "13   computer_science    240\n",
       "14            history    238\n",
       "15            fiction    198"
      ]
     },
     "execution_count": 20,
     "metadata": {},
     "output_type": "execute_result"
    }
   ],
   "source": [
    "bookdata.iloc[8:16,[2,3]]"
   ]
  },
  {
   "cell_type": "markdown",
   "metadata": {},
   "source": [
    "From looking at the displayed data, we can see several missing entries, which are represented by 'not a number' or `NaN`. If we want to remove these entries, we may define a new dataset and call the `dropna` method of our `bookdata` object.\n",
    "\n",
    "The argument of the `dropna` method is specified as `axis = 0`, which means drop any *row* with missing values. If you specify `axis = 1`, you will drop any *column* with missing values."
   ]
  },
  {
   "cell_type": "code",
   "execution_count": 21,
   "metadata": {},
   "outputs": [
    {
     "data": {
      "text/html": [
       "<div>\n",
       "<style scoped>\n",
       "    .dataframe tbody tr th:only-of-type {\n",
       "        vertical-align: middle;\n",
       "    }\n",
       "\n",
       "    .dataframe tbody tr th {\n",
       "        vertical-align: top;\n",
       "    }\n",
       "\n",
       "    .dataframe thead th {\n",
       "        text-align: right;\n",
       "    }\n",
       "</style>\n",
       "<table border=\"1\" class=\"dataframe\">\n",
       "  <thead>\n",
       "    <tr style=\"text-align: right;\">\n",
       "      <th></th>\n",
       "      <th>Title</th>\n",
       "      <th>Author</th>\n",
       "      <th>Genre</th>\n",
       "      <th>Pages</th>\n",
       "      <th>Publisher</th>\n",
       "    </tr>\n",
       "  </thead>\n",
       "  <tbody>\n",
       "    <tr>\n",
       "      <td>0</td>\n",
       "      <td>Fundamentals of Wavelets</td>\n",
       "      <td>Goswami, Jaideva</td>\n",
       "      <td>signal_processing</td>\n",
       "      <td>228</td>\n",
       "      <td>Wiley</td>\n",
       "    </tr>\n",
       "    <tr>\n",
       "      <td>1</td>\n",
       "      <td>Data Smart</td>\n",
       "      <td>Foreman, John</td>\n",
       "      <td>data_science</td>\n",
       "      <td>235</td>\n",
       "      <td>Wiley</td>\n",
       "    </tr>\n",
       "    <tr>\n",
       "      <td>2</td>\n",
       "      <td>God Created the Integers</td>\n",
       "      <td>Hawking, Stephen</td>\n",
       "      <td>mathematics</td>\n",
       "      <td>197</td>\n",
       "      <td>Penguin</td>\n",
       "    </tr>\n",
       "    <tr>\n",
       "      <td>3</td>\n",
       "      <td>Superfreakonomics</td>\n",
       "      <td>Dubner, Stephen</td>\n",
       "      <td>economics</td>\n",
       "      <td>179</td>\n",
       "      <td>HarperCollins</td>\n",
       "    </tr>\n",
       "    <tr>\n",
       "      <td>4</td>\n",
       "      <td>Orientalism</td>\n",
       "      <td>Said, Edward</td>\n",
       "      <td>history</td>\n",
       "      <td>197</td>\n",
       "      <td>Penguin</td>\n",
       "    </tr>\n",
       "    <tr>\n",
       "      <td>...</td>\n",
       "      <td>...</td>\n",
       "      <td>...</td>\n",
       "      <td>...</td>\n",
       "      <td>...</td>\n",
       "      <td>...</td>\n",
       "    </tr>\n",
       "    <tr>\n",
       "      <td>114</td>\n",
       "      <td>Rationality &amp; Freedom</td>\n",
       "      <td>Sen, Amartya</td>\n",
       "      <td>economics</td>\n",
       "      <td>213</td>\n",
       "      <td>Springer</td>\n",
       "    </tr>\n",
       "    <tr>\n",
       "      <td>115</td>\n",
       "      <td>Clash of Civilizations and Remaking of the Wor...</td>\n",
       "      <td>Huntington, Samuel</td>\n",
       "      <td>history</td>\n",
       "      <td>228</td>\n",
       "      <td>Simon&amp;Schuster</td>\n",
       "    </tr>\n",
       "    <tr>\n",
       "      <td>116</td>\n",
       "      <td>Uncommon Wisdom</td>\n",
       "      <td>Capra, Fritjof</td>\n",
       "      <td>nonfiction</td>\n",
       "      <td>197</td>\n",
       "      <td>Fontana</td>\n",
       "    </tr>\n",
       "    <tr>\n",
       "      <td>117</td>\n",
       "      <td>One</td>\n",
       "      <td>Bach, Richard</td>\n",
       "      <td>nonfiction</td>\n",
       "      <td>172</td>\n",
       "      <td>Dell</td>\n",
       "    </tr>\n",
       "    <tr>\n",
       "      <td>119</td>\n",
       "      <td>To Sir With Love</td>\n",
       "      <td>Braithwaite</td>\n",
       "      <td>fiction</td>\n",
       "      <td>197</td>\n",
       "      <td>Penguin</td>\n",
       "    </tr>\n",
       "  </tbody>\n",
       "</table>\n",
       "<p>112 rows × 5 columns</p>\n",
       "</div>"
      ],
      "text/plain": [
       "                                                 Title              Author  \\\n",
       "0                             Fundamentals of Wavelets    Goswami, Jaideva   \n",
       "1                                           Data Smart       Foreman, John   \n",
       "2                             God Created the Integers    Hawking, Stephen   \n",
       "3                                    Superfreakonomics     Dubner, Stephen   \n",
       "4                                          Orientalism        Said, Edward   \n",
       "..                                                 ...                 ...   \n",
       "114                              Rationality & Freedom        Sen, Amartya   \n",
       "115  Clash of Civilizations and Remaking of the Wor...  Huntington, Samuel   \n",
       "116                                    Uncommon Wisdom      Capra, Fritjof   \n",
       "117                                                One       Bach, Richard   \n",
       "119                                   To Sir With Love         Braithwaite   \n",
       "\n",
       "                 Genre  Pages       Publisher  \n",
       "0    signal_processing    228           Wiley  \n",
       "1         data_science    235           Wiley  \n",
       "2          mathematics    197         Penguin  \n",
       "3            economics    179   HarperCollins  \n",
       "4              history    197         Penguin  \n",
       "..                 ...    ...             ...  \n",
       "114          economics    213        Springer  \n",
       "115            history    228  Simon&Schuster  \n",
       "116         nonfiction    197         Fontana  \n",
       "117         nonfiction    172            Dell  \n",
       "119            fiction    197         Penguin  \n",
       "\n",
       "[112 rows x 5 columns]"
      ]
     },
     "execution_count": 21,
     "metadata": {},
     "output_type": "execute_result"
    }
   ],
   "source": [
    "file_nomissing = bookdata.dropna(axis = 0)\n",
    "file_nomissing"
   ]
  },
  {
   "cell_type": "markdown",
   "metadata": {},
   "source": [
    "Now we'll make a quick histogram of the remaining data by number of pages. In this case, our histogram will plot how many books have total pages within given ranges."
   ]
  }
 ],
 "metadata": {
  "kernelspec": {
   "display_name": "Python 3 (ipykernel)",
   "language": "python",
   "name": "python3"
  },
  "language_info": {
   "codemirror_mode": {
    "name": "ipython",
    "version": 3
   },
   "file_extension": ".py",
   "mimetype": "text/x-python",
   "name": "python",
   "nbconvert_exporter": "python",
   "pygments_lexer": "ipython3",
   "version": "3.8.11"
  }
 },
 "nbformat": 4,
 "nbformat_minor": 2
}
