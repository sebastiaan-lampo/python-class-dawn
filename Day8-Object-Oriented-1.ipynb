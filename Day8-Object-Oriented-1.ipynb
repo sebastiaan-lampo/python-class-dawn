{
 "cells": [
  {
   "cell_type": "markdown",
   "metadata": {},
   "source": [
    "# ICT 778-005 Day 8: Object Oriented Programming"
   ]
  },
  {
   "cell_type": "markdown",
   "metadata": {},
   "source": [
    "So far we have dealt with various objects while working with variables such as integer variables. These are all referred to as objects. In python, everything is referred to as an object. In today's lecture, we will explore more about what are objects and how you can create your own. "
   ]
  },
  {
   "cell_type": "markdown",
   "metadata": {},
   "source": [
    "Object-oriented programming is a way of structuring your program and behavior into objects.\n",
    "\n",
    "For instance, let's take as an example of cars. Each car has different characteristics such as color, power, and seats. "
   ]
  },
  {
   "cell_type": "markdown",
   "metadata": {},
   "source": [
    "# Objects"
   ]
  },
  {
   "cell_type": "markdown",
   "metadata": {},
   "source": [
    "An object is an abstract data type. This means that you won't find a type called an object in python. You will see instead something called classes. Each instance of the class we refer to as an object of that class. Each object may have a set of `attributes` and `methods`.\n",
    "\n",
    "## Object Attributes\n",
    "\n",
    "As we mentioned earlier each car may have some characteristics attached to it. These characteristics that describe the car object are referred to as attributes\n",
    "\n",
    "We will first start with creating a class in python"
   ]
  },
  {
   "cell_type": "code",
   "execution_count": 71,
   "metadata": {},
   "outputs": [],
   "source": [
    "class Car:\n",
    "    pass"
   ]
  },
  {
   "cell_type": "markdown",
   "metadata": {},
   "source": [
    "In the above example, we created the car exercise. To create a class in python it should follow the following format:\n",
    "\n",
    "        class className:\n",
    "           #comments describing the usage of this class (not required but best practice)\n",
    "           #class attributes\n",
    "           #class functions\n",
    "\n",
    "For now, inside the class block, we just added pass which means do nothing.\n",
    "\n",
    "To create a class instance (object) you need to follow the following syntax:\n",
    "\n",
    "myVariable=className()\n",
    "\n",
    "\n",
    "Note that is case sensitive"
   ]
  },
  {
   "cell_type": "code",
   "execution_count": 72,
   "metadata": {},
   "outputs": [],
   "source": [
    "myCar=Car()"
   ]
  },
  {
   "cell_type": "markdown",
   "metadata": {},
   "source": [
    "Each class needs to have an initialization function. In python, it is referred to as `__init__`\n",
    "\n",
    "This init method is called whenever we create an instance of the class. It is responsible for initializing the attributes of the created object"
   ]
  },
  {
   "cell_type": "code",
   "execution_count": 73,
   "metadata": {},
   "outputs": [],
   "source": [
    "class Car:\n",
    "    \n",
    "   def __init__(self):\n",
    "        print('Hello')"
   ]
  },
  {
   "cell_type": "code",
   "execution_count": 74,
   "metadata": {},
   "outputs": [
    {
     "name": "stdout",
     "output_type": "stream",
     "text": [
      "Hello\n"
     ]
    }
   ],
   "source": [
    "myCar=Car()"
   ]
  },
  {
   "cell_type": "markdown",
   "metadata": {},
   "source": [
    "The __init__ should always have the `self` parameter. This parameter informs the __init__ method is self-referring to the created object. Any changes happening are for the created object. The two underscores indicate that this is a private method.\n",
    "\n",
    "Using `self` we can start assigning attributes to the instance of that class.\n",
    "\n",
    "Every car has a model name, number of doors, and color. Let's start with these attributes"
   ]
  },
  {
   "cell_type": "code",
   "execution_count": 75,
   "metadata": {},
   "outputs": [],
   "source": [
    "class Car:\n",
    "    \n",
    "   def __init__(self):\n",
    "        self.modelName=\"Honda\"\n",
    "        self.doorsNum=4\n",
    "        self.color=\"Red\""
   ]
  },
  {
   "cell_type": "markdown",
   "metadata": {},
   "source": [
    "In this code we are saying for each instance created will have these three attributes. These three values are initialized to these values."
   ]
  },
  {
   "cell_type": "code",
   "execution_count": 76,
   "metadata": {},
   "outputs": [
    {
     "name": "stdout",
     "output_type": "stream",
     "text": [
      "Honda\n",
      "4\n",
      "Red\n"
     ]
    }
   ],
   "source": [
    "myCar=Car()\n",
    "print(myCar.modelName)\n",
    "print(myCar.doorsNum)\n",
    "print(myCar.color)"
   ]
  },
  {
   "cell_type": "markdown",
   "metadata": {},
   "source": [
    "To change the value of an attribute for an object we can do the following"
   ]
  },
  {
   "cell_type": "code",
   "execution_count": 77,
   "metadata": {},
   "outputs": [
    {
     "name": "stdout",
     "output_type": "stream",
     "text": [
      "Mazda\n"
     ]
    }
   ],
   "source": [
    "myCar.modelName=\"Mazda\"\n",
    "print(myCar.modelName)"
   ]
  },
  {
   "cell_type": "markdown",
   "metadata": {},
   "source": [
    "What if I want to initialize this object attributes to values specified by the user? \n",
    "\n",
    "Similar to any function we can pass an argument when creating a class instance. The order fo parameters matters"
   ]
  },
  {
   "cell_type": "code",
   "execution_count": 78,
   "metadata": {},
   "outputs": [],
   "source": [
    "class Car:\n",
    "    \n",
    "   def __init__(self,modelName,doorsNum,color):\n",
    "        self.modelName=modelName\n",
    "        self.doorsNum=doorsNum\n",
    "        self.color=color"
   ]
  },
  {
   "cell_type": "code",
   "execution_count": 79,
   "metadata": {},
   "outputs": [
    {
     "name": "stdout",
     "output_type": "stream",
     "text": [
      "Mazda\n",
      "15\n",
      "Blue\n"
     ]
    }
   ],
   "source": [
    "myCar=Car(\"Mazda\",15,\"Blue\")\n",
    "print(myCar.modelName)\n",
    "print(myCar.doorsNum)\n",
    "print(myCar.color)"
   ]
  },
  {
   "cell_type": "code",
   "execution_count": 80,
   "metadata": {},
   "outputs": [
    {
     "ename": "TypeError",
     "evalue": "__init__() missing 3 required positional arguments: 'modelName', 'doorsNum', and 'color'",
     "output_type": "error",
     "traceback": [
      "\u001b[1;31m---------------------------------------------------------------------------\u001b[0m",
      "\u001b[1;31mTypeError\u001b[0m                                 Traceback (most recent call last)",
      "\u001b[1;32m<ipython-input-80-7e906454ddf4>\u001b[0m in \u001b[0;36m<module>\u001b[1;34m\u001b[0m\n\u001b[1;32m----> 1\u001b[1;33m \u001b[0mmyCar\u001b[0m\u001b[1;33m=\u001b[0m\u001b[0mCar\u001b[0m\u001b[1;33m(\u001b[0m\u001b[1;33m)\u001b[0m\u001b[1;33m\u001b[0m\u001b[1;33m\u001b[0m\u001b[0m\n\u001b[0m",
      "\u001b[1;31mTypeError\u001b[0m: __init__() missing 3 required positional arguments: 'modelName', 'doorsNum', and 'color'"
     ]
    }
   ],
   "source": [
    "myCar=Car()"
   ]
  },
  {
   "cell_type": "markdown",
   "metadata": {},
   "source": [
    "What if I want in some cases to have my object intizalied to default values and hence just call `car()`? We can create defaults values."
   ]
  },
  {
   "cell_type": "code",
   "execution_count": 81,
   "metadata": {},
   "outputs": [],
   "source": [
    "class Car:\n",
    "    \n",
    "   def __init__(self,modelName=\"Undefined\",doorsNum=-1,color=\"Undefined\"):\n",
    "        self.modelName=modelName\n",
    "        self.doorsNum=doorsNum\n",
    "        self.color=color"
   ]
  },
  {
   "cell_type": "code",
   "execution_count": 82,
   "metadata": {},
   "outputs": [
    {
     "name": "stdout",
     "output_type": "stream",
     "text": [
      "Undefined\n",
      "-1\n",
      "Undefined\n"
     ]
    }
   ],
   "source": [
    "myCar=Car()\n",
    "print(myCar.modelName)\n",
    "print(myCar.doorsNum)\n",
    "print(myCar.color)"
   ]
  },
  {
   "cell_type": "markdown",
   "metadata": {},
   "source": [
    "## Object Attributes are Mutable"
   ]
  },
  {
   "cell_type": "markdown",
   "metadata": {},
   "source": [
    "This means similar to lists if I pass an object to a function by reference then any changes done to the attributes will affect the original object."
   ]
  },
  {
   "cell_type": "code",
   "execution_count": 83,
   "metadata": {},
   "outputs": [
    {
     "name": "stdout",
     "output_type": "stream",
     "text": [
      "Undefined\n",
      "Honda\n"
     ]
    }
   ],
   "source": [
    "\n",
    "def updateMode(myCar):\n",
    "    myCar.modelName=\"Honda\"\n",
    "    \n",
    "myCar=Car()\n",
    "print(myCar.modelName)\n",
    "updateMode(myCar)\n",
    "print(myCar.modelName)"
   ]
  },
  {
   "cell_type": "markdown",
   "metadata": {},
   "source": [
    "To pass an object by the value you may use the `copy` library"
   ]
  },
  {
   "cell_type": "code",
   "execution_count": 84,
   "metadata": {},
   "outputs": [
    {
     "name": "stdout",
     "output_type": "stream",
     "text": [
      "Undefined\n",
      "Undefined\n"
     ]
    }
   ],
   "source": [
    "import copy\n",
    "\n",
    "myCar=Car()\n",
    "print(myCar.modelName)\n",
    "updateMode(copy.copy(myCar))\n",
    "print(myCar.modelName)"
   ]
  },
  {
   "cell_type": "markdown",
   "metadata": {},
   "source": [
    "## Class Methods"
   ]
  },
  {
   "cell_type": "markdown",
   "metadata": {},
   "source": [
    "In the above example, we mainly worked with object attributes. What if I want to print the object without having to call each attribute by itself"
   ]
  },
  {
   "cell_type": "code",
   "execution_count": 85,
   "metadata": {},
   "outputs": [
    {
     "name": "stdout",
     "output_type": "stream",
     "text": [
      "Undefined\n",
      "-1\n",
      "Undefined\n"
     ]
    }
   ],
   "source": [
    "myCar=Car()\n",
    "print(myCar.modelName)\n",
    "print(myCar.doorsNum)\n",
    "print(myCar.color)"
   ]
  },
  {
   "cell_type": "markdown",
   "metadata": {},
   "source": [
    "Instead of calling each attribute and print it, I want to call one function that can print for me all these values"
   ]
  },
  {
   "cell_type": "code",
   "execution_count": 86,
   "metadata": {},
   "outputs": [],
   "source": [
    "class Car:\n",
    "    def __init__(self,modelName=\"UnDefined\",doorsNum=-1,color=\"UnDefined\"):\n",
    "        self.modelName=modelName\n",
    "        self.doorsNum=doorsNum\n",
    "        self.color=color\n",
    "    def printAttributes(self):\n",
    "        print(\"Model name is \",self.modelName)\n",
    "        print(\"Number of doors is \",self.doorsNum)\n",
    "        print(\"Car color is \",self.color)"
   ]
  },
  {
   "cell_type": "code",
   "execution_count": 87,
   "metadata": {},
   "outputs": [
    {
     "name": "stdout",
     "output_type": "stream",
     "text": [
      "Model name is  UnDefined\n",
      "Number of doors is  -1\n",
      "Car color is  UnDefined\n"
     ]
    }
   ],
   "source": [
    "myCar=Car()\n",
    "myCar.printAttributes()"
   ]
  },
  {
   "cell_type": "markdown",
   "metadata": {},
   "source": [
    "A function inside a class is called a method. Currently we have created two methods (`__init__(), printAttributes())"
   ]
  },
  {
   "cell_type": "code",
   "execution_count": 88,
   "metadata": {},
   "outputs": [
    {
     "name": "stdout",
     "output_type": "stream",
     "text": [
      "<__main__.Car object at 0x00000202A60B4CC8>\n"
     ]
    }
   ],
   "source": [
    "myCar=Car()\n",
    "print(myCar)"
   ]
  },
  {
   "cell_type": "markdown",
   "metadata": {},
   "source": [
    "Now if I want to print the object as it will only print for the memory address this object is at.\n",
    "\n",
    "To handle this, we need to override the builting pythont `__str__()` method. We replace the `printAttributes()` method with the `__str__()`"
   ]
  },
  {
   "cell_type": "code",
   "execution_count": 89,
   "metadata": {},
   "outputs": [],
   "source": [
    "class Car:\n",
    "    def __init__(self,modelName=\"UnDefined\",doorsNum=-1,color=\"UnDefined\"):\n",
    "        self.modelName=modelName\n",
    "        self.doorsNum=doorsNum\n",
    "        self.color=color\n",
    "    def __str__(self):\n",
    "        return \"Model name is \" + self.modelName+\" \\n\"+ \"Number of doors is \"+str(self.doorsNum)+ \" \\n\"+ \"Car color is \"+self.color"
   ]
  },
  {
   "cell_type": "code",
   "execution_count": 90,
   "metadata": {},
   "outputs": [
    {
     "name": "stdout",
     "output_type": "stream",
     "text": [
      "Model name is UnDefined \n",
      "Number of doors is -1 \n",
      "Car color is UnDefined\n"
     ]
    }
   ],
   "source": [
    "myCar=Car()\n",
    "print(myCar)"
   ]
  },
  {
   "cell_type": "markdown",
   "metadata": {},
   "source": [
    " # Public vs Private Attributes and Methods"
   ]
  },
  {
   "cell_type": "markdown",
   "metadata": {},
   "source": [
    "The double underscores in the __init__ method mean that the method is not accessible outside the class definition. You can also make attributes 'private' by using a single leading underscore. For example, self._foo = bar is only accessible within the code that declares the class.\n",
    "\n",
    "Note: it's usually safe to make attributes and methods accessible, but there are cases where you would rather not. Use private attributes and methods responsibly (don't make everything private by default)."
   ]
  },
  {
   "cell_type": "code",
   "execution_count": 102,
   "metadata": {},
   "outputs": [],
   "source": [
    "class Car:\n",
    "    def __init__(self,modelName=\"Undefined\",doorsNum=-1,color=\"Undefined\"):\n",
    "        self.modelName=modelName\n",
    "        self.doorsNum=doorsNum\n",
    "        self.__color=color\n",
    "myCar=Car()        \n"
   ]
  },
  {
   "cell_type": "code",
   "execution_count": 103,
   "metadata": {},
   "outputs": [
    {
     "name": "stdout",
     "output_type": "stream",
     "text": [
      "Undefined\n"
     ]
    },
    {
     "ename": "AttributeError",
     "evalue": "'Car' object has no attribute '__color'",
     "output_type": "error",
     "traceback": [
      "\u001b[1;31m---------------------------------------------------------------------------\u001b[0m",
      "\u001b[1;31mAttributeError\u001b[0m                            Traceback (most recent call last)",
      "\u001b[1;32m<ipython-input-103-88b9af350f89>\u001b[0m in \u001b[0;36m<module>\u001b[1;34m\u001b[0m\n\u001b[0;32m      1\u001b[0m \u001b[0mprint\u001b[0m\u001b[1;33m(\u001b[0m\u001b[0mmyCar\u001b[0m\u001b[1;33m.\u001b[0m\u001b[0mmodelName\u001b[0m\u001b[1;33m)\u001b[0m\u001b[1;33m\u001b[0m\u001b[1;33m\u001b[0m\u001b[0m\n\u001b[1;32m----> 2\u001b[1;33m \u001b[0mprint\u001b[0m\u001b[1;33m(\u001b[0m\u001b[0mmyCar\u001b[0m\u001b[1;33m.\u001b[0m\u001b[0m__color\u001b[0m\u001b[1;33m)\u001b[0m\u001b[1;33m\u001b[0m\u001b[1;33m\u001b[0m\u001b[0m\n\u001b[0m",
      "\u001b[1;31mAttributeError\u001b[0m: 'Car' object has no attribute '__color'"
     ]
    }
   ],
   "source": [
    "print(myCar.modelName)\n",
    "print(myCar.__color)"
   ]
  },
  {
   "cell_type": "markdown",
   "metadata": {},
   "source": [
    "# If everything is an object in Python, why don't we use classes more often?\n",
    "\n",
    "The answer to this can be unfortunately phrased as a question: why would we? There are many situations in which classes will improve the functionality of your program and provide convenient solutions to problems. However, there are also situations in which using objects will only unnecessarily complicate things. \n",
    "\n",
    "At the outset of writing any code to accomplish a task, and as you write the code, it is helpful to ask yourself the following questions:\n",
    "\n",
    "* How can I store data and variables in my program? Do lists and dictionaries give me the flexibility that I need?\n",
    "* Is there another existing object that I can use, rather than 'reinventing the wheel'?\n",
    "* Is there something in the Python standard library or a well-documented external package that does the same thing that I am trying to do?"
   ]
  },
  {
   "cell_type": "markdown",
   "metadata": {},
   "source": [
    "# Another Example\n",
    "\n",
    "\n",
    "Lets create a Time class that has thre attributes, namely hours, minutes, and seconds."
   ]
  },
  {
   "cell_type": "code",
   "execution_count": 92,
   "metadata": {},
   "outputs": [],
   "source": [
    "class Time:\n",
    "    \n",
    "    def __init__(self, hours, minutes, seconds):\n",
    "        self.hours = hours\n",
    "        self.minutes = minutes\n",
    "        self.seconds = seconds\n",
    "        \n",
    "T = Time(hours = 1, minutes = 54, seconds = 35)"
   ]
  },
  {
   "cell_type": "markdown",
   "metadata": {},
   "source": [
    "How can we have this time indicate if am or pm? We can add a boolean variable indcating if AM or not"
   ]
  },
  {
   "cell_type": "code",
   "execution_count": 93,
   "metadata": {},
   "outputs": [
    {
     "ename": "SyntaxError",
     "evalue": "positional argument follows keyword argument (<ipython-input-93-de6bd69242b5>, line 9)",
     "output_type": "error",
     "traceback": [
      "\u001b[1;36m  File \u001b[1;32m\"<ipython-input-93-de6bd69242b5>\"\u001b[1;36m, line \u001b[1;32m9\u001b[0m\n\u001b[1;33m    T = Time(hours = 1, minutes = 54, seconds = 35,True)\u001b[0m\n\u001b[1;37m                                                  ^\u001b[0m\n\u001b[1;31mSyntaxError\u001b[0m\u001b[1;31m:\u001b[0m positional argument follows keyword argument\n"
     ]
    }
   ],
   "source": [
    "class Time:\n",
    "    \n",
    "    def __init__(self, hours, minutes, seconds,isAm):\n",
    "        self.hours = hours\n",
    "        self.minutes = minutes\n",
    "        self.seconds = seconds\n",
    "        self.isAm=isAm\n",
    "        \n",
    "T = Time(hours = 1, minutes = 54, seconds = 35,True)"
   ]
  },
  {
   "cell_type": "markdown",
   "metadata": {},
   "source": [
    "Now lets create a function that add time to a `Time` class object.  "
   ]
  },
  {
   "cell_type": "code",
   "execution_count": 94,
   "metadata": {},
   "outputs": [
    {
     "name": "stdout",
     "output_type": "stream",
     "text": [
      "1:54:35 am\n",
      "4:59:50 am\n"
     ]
    }
   ],
   "source": [
    "class Time:\n",
    "    \n",
    "    def __init__(self, hours, minutes, seconds,isAm):\n",
    "        self.hours = hours\n",
    "        self.minutes = minutes\n",
    "        self.seconds = seconds\n",
    "        self.isAm=isAm\n",
    "    def add(self, hours, minutes, seconds):\n",
    "        self.hours += hours\n",
    "        self.minutes += minutes\n",
    "        self.seconds += seconds\n",
    "    def __str__(self):\n",
    "        return \"\"+str(self.hours)+\":\"+str(self.minutes)+\":\"+str(self.seconds)+\" \"+(\"am\" if self.isAm else \"pm\" )\n",
    "    \n",
    "T = Time(hours = 1, minutes = 54, seconds = 35,isAm=True)\n",
    "\n",
    "print(T)\n",
    "T.add(3,5,15)\n",
    "print(T)"
   ]
  },
  {
   "cell_type": "markdown",
   "metadata": {},
   "source": [
    "# Exercises"
   ]
  },
  {
   "cell_type": "markdown",
   "metadata": {},
   "source": [
    "1- For this exercise modify the add method in the `Time` class to handle the issue hours, minutes and seconds exceesd there macimum value (for instance if hourse is above 12 you should switch am to pm or if minutes is above 60 you need to add an hour etc)"
   ]
  },
  {
   "cell_type": "code",
   "execution_count": null,
   "metadata": {},
   "outputs": [],
   "source": []
  },
  {
   "cell_type": "markdown",
   "metadata": {},
   "source": [
    "2-Create a new Book class to represent a book. Your class should have the attributes title, author, pages, year, and publisher. Write a method that displays all of the attributes of the Book class in a readable format"
   ]
  },
  {
   "cell_type": "code",
   "execution_count": null,
   "metadata": {},
   "outputs": [],
   "source": []
  },
  {
   "cell_type": "markdown",
   "metadata": {},
   "source": [
    "3- Write a function (not a method) called convertToSeconds that converts a Time class instance to seconds."
   ]
  },
  {
   "cell_type": "code",
   "execution_count": null,
   "metadata": {},
   "outputs": [],
   "source": []
  }
 ],
 "metadata": {
  "kernelspec": {
   "display_name": "Python 3 (ipykernel)",
   "language": "python",
   "name": "python3"
  },
  "language_info": {
   "codemirror_mode": {
    "name": "ipython",
    "version": 3
   },
   "file_extension": ".py",
   "mimetype": "text/x-python",
   "name": "python",
   "nbconvert_exporter": "python",
   "pygments_lexer": "ipython3",
   "version": "3.8.11"
  }
 },
 "nbformat": 4,
 "nbformat_minor": 2
}
