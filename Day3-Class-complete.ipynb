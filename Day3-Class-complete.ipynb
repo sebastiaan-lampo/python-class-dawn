{
 "cells": [
  {
   "cell_type": "markdown",
   "metadata": {},
   "source": [
    "# ICT-778-005 Python Foundations Day 3"
   ]
  },
  {
   "cell_type": "markdown",
   "metadata": {},
   "source": [
    "If you recall from the previous lecture we used the range function when working with for loop. The range function creates a sequence of numbers which converted into a list."
   ]
  },
  {
   "cell_type": "markdown",
   "metadata": {},
   "source": [
    "In this session, we will discuss lists and dictionaries"
   ]
  },
  {
   "cell_type": "markdown",
   "metadata": {},
   "source": [
    "# Lists"
   ]
  },
  {
   "cell_type": "markdown",
   "metadata": {},
   "source": [
    "The list is a collection of values that may have the same data type. Each value in the list is called an element. To Initialize a list: "
   ]
  },
  {
   "cell_type": "code",
   "execution_count": 2,
   "metadata": {},
   "outputs": [],
   "source": [
    "myList1=[] #initiazlies an empty lists\n",
    "myList2=[1,2,3,4] #initiazlies a list with inetger elements\n",
    "myList3=[\"Abed\",\"Mike\",\"Jack\"] #initiazlies a list with string elements\n",
    "myList4=[1,\"Mike\",50] #initiazlies a list with inetger and integer elemnts elements"
   ]
  },
  {
   "cell_type": "markdown",
   "metadata": {},
   "source": [
    "Python is a dynamic language that allows having elements with different data types in the same list. However, this is not allowed in some languages such as C#. Hence it is advisable to avoid this."
   ]
  },
  {
   "cell_type": "code",
   "execution_count": 2,
   "metadata": {},
   "outputs": [
    {
     "name": "stdout",
     "output_type": "stream",
     "text": [
      "[]\n",
      "[1, 2, 3, 4]\n",
      "['Abed', 'Mike', 'Jack']\n",
      "[1, 'Mike', 50]\n"
     ]
    }
   ],
   "source": [
    "print(myList1)\n",
    "print(myList2)\n",
    "print(myList3)\n",
    "print(myList4)"
   ]
  },
  {
   "cell_type": "markdown",
   "metadata": {},
   "source": [
    "# Indexing"
   ]
  },
  {
   "cell_type": "markdown",
   "metadata": {},
   "source": [
    "Each element in the list has something called index that refers to its location in the list. The first element in the list is at index 0"
   ]
  },
  {
   "cell_type": "markdown",
   "metadata": {},
   "source": [
    "To access an element at a specific location we can do the following"
   ]
  },
  {
   "cell_type": "code",
   "execution_count": 3,
   "metadata": {},
   "outputs": [
    {
     "name": "stdout",
     "output_type": "stream",
     "text": [
      "1\n"
     ]
    }
   ],
   "source": [
    "print(myList2[0])"
   ]
  },
  {
   "cell_type": "markdown",
   "metadata": {},
   "source": [
    "Now trying to do this with an empty list you will receive an error"
   ]
  },
  {
   "cell_type": "code",
   "execution_count": 4,
   "metadata": {},
   "outputs": [
    {
     "ename": "IndexError",
     "evalue": "list index out of range",
     "output_type": "error",
     "traceback": [
      "\u001b[1;31m---------------------------------------------------------------------------\u001b[0m",
      "\u001b[1;31mIndexError\u001b[0m                                Traceback (most recent call last)",
      "\u001b[1;32m<ipython-input-4-5c873195e288>\u001b[0m in \u001b[0;36m<module>\u001b[1;34m\u001b[0m\n\u001b[1;32m----> 1\u001b[1;33m \u001b[0mprint\u001b[0m\u001b[1;33m(\u001b[0m\u001b[0mmyList1\u001b[0m\u001b[1;33m[\u001b[0m\u001b[1;36m0\u001b[0m\u001b[1;33m]\u001b[0m\u001b[1;33m)\u001b[0m\u001b[1;33m\u001b[0m\u001b[1;33m\u001b[0m\u001b[0m\n\u001b[0m",
      "\u001b[1;31mIndexError\u001b[0m: list index out of range"
     ]
    }
   ],
   "source": [
    "print(myList1[0])"
   ]
  },
  {
   "cell_type": "code",
   "execution_count": 5,
   "metadata": {},
   "outputs": [
    {
     "ename": "IndexError",
     "evalue": "list index out of range",
     "output_type": "error",
     "traceback": [
      "\u001b[1;31m---------------------------------------------------------------------------\u001b[0m",
      "\u001b[1;31mIndexError\u001b[0m                                Traceback (most recent call last)",
      "\u001b[1;32m<ipython-input-5-82396407b7b4>\u001b[0m in \u001b[0;36m<module>\u001b[1;34m\u001b[0m\n\u001b[1;32m----> 1\u001b[1;33m \u001b[0mprint\u001b[0m\u001b[1;33m(\u001b[0m\u001b[0mmyList2\u001b[0m\u001b[1;33m[\u001b[0m\u001b[1;36m4\u001b[0m\u001b[1;33m]\u001b[0m\u001b[1;33m)\u001b[0m\u001b[1;33m\u001b[0m\u001b[1;33m\u001b[0m\u001b[0m\n\u001b[0m",
      "\u001b[1;31mIndexError\u001b[0m: list index out of range"
     ]
    }
   ],
   "source": [
    "print(myList2[4])"
   ]
  },
  {
   "cell_type": "markdown",
   "metadata": {},
   "source": [
    "Notice that in myList2 we have four elements. However, when we put index 4 it raised an error. Why?"
   ]
  },
  {
   "cell_type": "markdown",
   "metadata": {},
   "source": [
    "In lists, the position of the first element is index 0; hence the index of the last elements is equal to the number of elements in the list subtracted by 1. The index of the final element in myList2 is 3"
   ]
  },
  {
   "cell_type": "markdown",
   "metadata": {},
   "source": [
    "How we can retrieve the number of elements in a list dynamically? We can use the len function"
   ]
  },
  {
   "cell_type": "code",
   "execution_count": 6,
   "metadata": {},
   "outputs": [
    {
     "name": "stdout",
     "output_type": "stream",
     "text": [
      "4\n"
     ]
    }
   ],
   "source": [
    "print(len(myList2))"
   ]
  },
  {
   "cell_type": "markdown",
   "metadata": {},
   "source": [
    "What if used negative values when using an index? For instance, instead of using index of 1, we use -1. In this case, it will print the last element"
   ]
  },
  {
   "cell_type": "code",
   "execution_count": 7,
   "metadata": {},
   "outputs": [
    {
     "name": "stdout",
     "output_type": "stream",
     "text": [
      "[1, 2, 3, 4]\n",
      "4\n"
     ]
    }
   ],
   "source": [
    "print(myList2)\n",
    "print(myList2[-1])"
   ]
  },
  {
   "cell_type": "code",
   "execution_count": 8,
   "metadata": {},
   "outputs": [
    {
     "name": "stdout",
     "output_type": "stream",
     "text": [
      "[1, 2, 3, 4]\n",
      "3\n"
     ]
    }
   ],
   "source": [
    "print(myList2)\n",
    "print(myList2[-2])"
   ]
  },
  {
   "cell_type": "markdown",
   "metadata": {},
   "source": [
    "Is there another way to print the last element?"
   ]
  },
  {
   "cell_type": "code",
   "execution_count": 9,
   "metadata": {},
   "outputs": [
    {
     "name": "stdout",
     "output_type": "stream",
     "text": [
      "4\n"
     ]
    }
   ],
   "source": [
    "print(myList2[len(myList2)-1]) # why we added -1?"
   ]
  },
  {
   "cell_type": "markdown",
   "metadata": {},
   "source": [
    "# Slicing"
   ]
  },
  {
   "cell_type": "markdown",
   "metadata": {},
   "source": [
    "Slicing is another feature that is handy when working with lists. It allows selecting a specific portion of the lists incase the whole list is not needed"
   ]
  },
  {
   "cell_type": "markdown",
   "metadata": {},
   "source": [
    "To apply slicing use the following syntax: listName[startPosition:endPosition:stepSize]"
   ]
  },
  {
   "cell_type": "code",
   "execution_count": 3,
   "metadata": {},
   "outputs": [
    {
     "name": "stdout",
     "output_type": "stream",
     "text": [
      "[1, 2, 3, 4]\n",
      "[1, 2]\n"
     ]
    }
   ],
   "source": [
    "print(myList2)\n",
    "print(myList2[0:2])"
   ]
  },
  {
   "cell_type": "markdown",
   "metadata": {},
   "source": [
    "This example print element at position 0 and then stops at the third element (index 2). The element at index 2 is not printed. The default steps size is 1"
   ]
  },
  {
   "cell_type": "code",
   "execution_count": 11,
   "metadata": {},
   "outputs": [
    {
     "name": "stdout",
     "output_type": "stream",
     "text": [
      "[1, 2]\n"
     ]
    }
   ],
   "source": [
    "print(myList2[:2])"
   ]
  },
  {
   "cell_type": "markdown",
   "metadata": {},
   "source": [
    "In this example, we did not specify our starting index; hence the default is 0"
   ]
  },
  {
   "cell_type": "code",
   "execution_count": 6,
   "metadata": {},
   "outputs": [
    {
     "name": "stdout",
     "output_type": "stream",
     "text": [
      "[1, 2, 3, 4]\n",
      "[3]\n"
     ]
    }
   ],
   "source": [
    "print(myList2)\n",
    "print(myList2[2:3])"
   ]
  },
  {
   "cell_type": "markdown",
   "metadata": {},
   "source": [
    "In this example, we did not specify our stop index; hence the default is the index of the last element of your list. The last element is included"
   ]
  },
  {
   "cell_type": "code",
   "execution_count": 5,
   "metadata": {},
   "outputs": [
    {
     "name": "stdout",
     "output_type": "stream",
     "text": [
      "[1, 2, 3, 4]\n",
      "[1, 3]\n"
     ]
    }
   ],
   "source": [
    "print(myList2)\n",
    "print(myList2[::2])"
   ]
  },
  {
   "cell_type": "markdown",
   "metadata": {},
   "source": [
    "Here we are printing the whole lists. Instead of printing every element, we are printing every other one as we selected the step size to be 2"
   ]
  },
  {
   "cell_type": "markdown",
   "metadata": {},
   "source": [
    "# Modifying Elements"
   ]
  },
  {
   "cell_type": "markdown",
   "metadata": {},
   "source": [
    "How to change the value of an element in a list? We can use the index of the element and then do the following:"
   ]
  },
  {
   "cell_type": "code",
   "execution_count": 14,
   "metadata": {},
   "outputs": [
    {
     "name": "stdout",
     "output_type": "stream",
     "text": [
      "[1, 2, 3, 4]\n",
      "[1, 15, 3, 4]\n"
     ]
    }
   ],
   "source": [
    "print(myList2)\n",
    "myList2[1]=15\n",
    "print(myList2)"
   ]
  },
  {
   "cell_type": "markdown",
   "metadata": {},
   "source": [
    "Here we changed the value stored at index 1 (second element) to be 15 instead of 2"
   ]
  },
  {
   "cell_type": "markdown",
   "metadata": {},
   "source": [
    "# Lists Iteration"
   ]
  },
  {
   "cell_type": "markdown",
   "metadata": {},
   "source": [
    "To access every element in my a list we can use for loop"
   ]
  },
  {
   "cell_type": "code",
   "execution_count": 10,
   "metadata": {},
   "outputs": [
    {
     "name": "stdout",
     "output_type": "stream",
     "text": [
      "0,1,2,3,"
     ]
    }
   ],
   "source": [
    "for i in range(0,len(myList2)):\n",
    "    print(i,end=\",\")"
   ]
  },
  {
   "cell_type": "markdown",
   "metadata": {},
   "source": [
    "Is there another way without using index? Yes"
   ]
  },
  {
   "cell_type": "code",
   "execution_count": 16,
   "metadata": {},
   "outputs": [
    {
     "name": "stdout",
     "output_type": "stream",
     "text": [
      "1\n",
      "15\n",
      "3\n",
      "4\n"
     ]
    }
   ],
   "source": [
    "for elem in myList2:\n",
    "    print(elem)"
   ]
  },
  {
   "cell_type": "markdown",
   "metadata": {},
   "source": [
    "# Adding Elements"
   ]
  },
  {
   "cell_type": "markdown",
   "metadata": {},
   "source": [
    "To add an element at the end of the list you can use the append function"
   ]
  },
  {
   "cell_type": "code",
   "execution_count": 12,
   "metadata": {},
   "outputs": [
    {
     "name": "stdout",
     "output_type": "stream",
     "text": [
      "[1, 2, 3, 4, 25]\n",
      "[1, 2, 3, 4, 25, 25]\n"
     ]
    }
   ],
   "source": [
    "print(myList2)\n",
    "myList2.append(25)\n",
    "print(myList2)"
   ]
  },
  {
   "cell_type": "markdown",
   "metadata": {},
   "source": [
    "How to add an element at a specific index? We can use the insert function. The insert function takes two parameters. The first one is the index where I want to insert the element and the second is the element value"
   ]
  },
  {
   "cell_type": "code",
   "execution_count": 18,
   "metadata": {},
   "outputs": [
    {
     "name": "stdout",
     "output_type": "stream",
     "text": [
      "[1, 15, 3, 4, 25]\n",
      "[1, '1000', 15, 3, 4, 25]\n"
     ]
    }
   ],
   "source": [
    "print(myList2)\n",
    "myList2.insert(1,\"1000\")\n",
    "print(myList2)\n"
   ]
  },
  {
   "cell_type": "markdown",
   "metadata": {},
   "source": [
    "To add multiple values at the same time we may the `+` sign"
   ]
  },
  {
   "cell_type": "code",
   "execution_count": 14,
   "metadata": {},
   "outputs": [
    {
     "name": "stdout",
     "output_type": "stream",
     "text": [
      "[1, 2, 3, 4, 25, 25, 100, 23, 25, 95, 100, 23, 25, 95]\n"
     ]
    }
   ],
   "source": [
    "myList2=myList2+[100,23,25,95]\n",
    "print(myList2)"
   ]
  },
  {
   "cell_type": "code",
   "execution_count": 20,
   "metadata": {},
   "outputs": [
    {
     "name": "stdout",
     "output_type": "stream",
     "text": [
      "[1, '1000', 15, 3, 4, 25, 100, 23, 25, 95, 100, 23, 25, 95]\n"
     ]
    }
   ],
   "source": [
    "myList2+=[100,23,25,95]\n",
    "print(myList2)"
   ]
  },
  {
   "cell_type": "markdown",
   "metadata": {},
   "source": [
    "or we can use for loops"
   ]
  },
  {
   "cell_type": "code",
   "execution_count": 21,
   "metadata": {},
   "outputs": [
    {
     "name": "stdout",
     "output_type": "stream",
     "text": [
      "[1, '1000', 15, 3, 4, 25, 100, 23, 25, 95, 100, 23, 25, 95]\n",
      "[1, '1000', 15, 3, 4, 25, 100, 23, 25, 95, 100, 23, 25, 95, 100, 23, 25, 95]\n"
     ]
    }
   ],
   "source": [
    "newList=[100,23,25,95]\n",
    "print(myList2)\n",
    "for i in range (len(newList)):\n",
    "    newElm=newList[i]\n",
    "    myList2.append(newElm)\n",
    "print(myList2)"
   ]
  },
  {
   "cell_type": "markdown",
   "metadata": {},
   "source": [
    "# Removing Element"
   ]
  },
  {
   "cell_type": "markdown",
   "metadata": {},
   "source": [
    "We have the option to remove an element by value or by index"
   ]
  },
  {
   "cell_type": "code",
   "execution_count": 22,
   "metadata": {},
   "outputs": [
    {
     "name": "stdout",
     "output_type": "stream",
     "text": [
      "[1, '1000', 15, 3, 4, 25, 100, 23, 25, 95, 100, 23, 25, 95, 100, 23, 25, 95]\n",
      "[1, '1000', 15, 3, 4, 100, 23, 25, 95, 100, 23, 25, 95, 100, 23, 25, 95]\n"
     ]
    }
   ],
   "source": [
    "print(myList2)\n",
    "myList2.remove(25)\n",
    "print(myList2)"
   ]
  },
  {
   "cell_type": "markdown",
   "metadata": {},
   "source": [
    "To remove a value at an index we can use the pop function. By default, the pop function will remove the last element if the index is not specified."
   ]
  },
  {
   "cell_type": "code",
   "execution_count": 19,
   "metadata": {},
   "outputs": [
    {
     "name": "stdout",
     "output_type": "stream",
     "text": [
      "[1, 2, 3, 4, 100, 23, 95, 100, 23, 95]\n",
      "[1, 2, 3, 4, 100, 23, 95, 100, 23]\n",
      "[1, 3, 4, 100, 23, 95, 100, 23]\n"
     ]
    }
   ],
   "source": [
    "print(myList2)\n",
    "myList2.pop()\n",
    "print(myList2)\n",
    "myList2.pop(1)\n",
    "print(myList2)"
   ]
  },
  {
   "cell_type": "markdown",
   "metadata": {},
   "source": [
    "The remove function will remove the first occurrence. To remove all occurrences, we can use for loop and then remove by index"
   ]
  },
  {
   "cell_type": "code",
   "execution_count": 20,
   "metadata": {},
   "outputs": [
    {
     "name": "stdout",
     "output_type": "stream",
     "text": [
      "[1, 3, 4, 100, 23, 95, 100, 23]\n",
      "[1, 3, 4, 100, 23, 95, 100, 23]\n",
      "[1, 3, 4, 100, 23, 95, 100, 23]\n",
      "[1, 3, 4, 100, 23, 95, 100, 23]\n",
      "[1, 3, 4, 100, 23, 95, 100, 23]\n",
      "[1, 3, 4, 100, 23, 95, 100, 23]\n",
      "[1, 3, 4, 100, 23, 95, 100, 23]\n",
      "[1, 3, 4, 100, 23, 95, 100, 23]\n",
      "[1, 3, 4, 100, 23, 95, 100, 23]\n",
      "[1, 3, 4, 100, 23, 95, 100, 23]\n"
     ]
    }
   ],
   "source": [
    "\n",
    "print(myList2)\n",
    "for i in range (len(myList2)):\n",
    "    print(myList2)\n",
    "    if myList2[i] ==25:\n",
    "        print(i)\n",
    "        print(myList2)\n",
    "        myList2.pop(i)\n",
    "print(myList2)"
   ]
  },
  {
   "cell_type": "markdown",
   "metadata": {},
   "source": [
    "This causes an error because we are looping over a list and also removing elements at the same time. Doing so messes up the indexes in the list. How can we solve it?"
   ]
  },
  {
   "cell_type": "code",
   "execution_count": 25,
   "metadata": {},
   "outputs": [
    {
     "name": "stdout",
     "output_type": "stream",
     "text": [
      "[1, 15, 3, 4, 100, 23, 95, 100, 23, 95, 100, 23]\n",
      "[1, 15, 3, 4, 100, 23, 95, 100, 23, 95, 100, 23]\n",
      "[1, 15, 3, 4, 100, 23, 95, 100, 23, 95, 100, 23]\n"
     ]
    }
   ],
   "source": [
    "print(myList2)\n",
    "filteredList=[]\n",
    "for i in range (len(myList2)):\n",
    "    if myList2[i] !=25:\n",
    "        filteredList.append(myList2[i])\n",
    "print(myList2)\n",
    "print(filteredList)"
   ]
  },
  {
   "cell_type": "markdown",
   "metadata": {},
   "source": [
    "We create an empty list that has all values except the one we want to remove. Can we reduce the code?"
   ]
  },
  {
   "cell_type": "code",
   "execution_count": 26,
   "metadata": {},
   "outputs": [
    {
     "name": "stdout",
     "output_type": "stream",
     "text": [
      "[1, 15, 3, 4, 100, 23, 95, 100, 23, 95, 100, 23]\n"
     ]
    }
   ],
   "source": [
    "filteredList=[]\n",
    "filteredList = [elem1 for elem1 in myList2 if elem1 != 25]\n",
    "print(filteredList)"
   ]
  },
  {
   "cell_type": "code",
   "execution_count": 27,
   "metadata": {},
   "outputs": [],
   "source": [
    "filteredList.clear() #remove all elments in a list"
   ]
  },
  {
   "cell_type": "markdown",
   "metadata": {},
   "source": [
    "# Addtional Methods"
   ]
  },
  {
   "cell_type": "markdown",
   "metadata": {},
   "source": [
    "There are various methods that can be handy when working with numerical lists. For instance, sorting the list, summing values, finding max value, finding min value ...."
   ]
  },
  {
   "cell_type": "markdown",
   "metadata": {},
   "source": [
    "To sort a list, you may use the sorted function"
   ]
  },
  {
   "cell_type": "code",
   "execution_count": 21,
   "metadata": {},
   "outputs": [
    {
     "name": "stdout",
     "output_type": "stream",
     "text": [
      "[1, 3, 4, 100, 23, 95, 100, 23]\n",
      "[1, 3, 4, 23, 23, 95, 100, 100]\n",
      "[1, 3, 4, 100, 23, 95, 100, 23]\n"
     ]
    }
   ],
   "source": [
    "print(myList2)\n",
    "print(sorted(myList2))\n",
    "print(myList2)"
   ]
  },
  {
   "cell_type": "markdown",
   "metadata": {},
   "source": [
    "Does this mean that mysList2 is now sorted?"
   ]
  },
  {
   "cell_type": "code",
   "execution_count": 29,
   "metadata": {},
   "outputs": [
    {
     "name": "stdout",
     "output_type": "stream",
     "text": [
      "[1, 15, 3, 4, 100, 23, 95, 100, 23, 95, 100, 23]\n"
     ]
    }
   ],
   "source": [
    "print(myList2)"
   ]
  },
  {
   "cell_type": "markdown",
   "metadata": {},
   "source": [
    "No, this is because the sorted function returns the sorted list; but, I need to let myList2 equal to the new sorted list returned by the sorted function"
   ]
  },
  {
   "cell_type": "code",
   "execution_count": 30,
   "metadata": {},
   "outputs": [
    {
     "name": "stdout",
     "output_type": "stream",
     "text": [
      "[1, 3, 4, 15, 23, 23, 23, 95, 95, 100, 100, 100]\n"
     ]
    }
   ],
   "source": [
    "myList2=sorted(myList2)\n",
    "print(myList2)"
   ]
  },
  {
   "cell_type": "code",
   "execution_count": 31,
   "metadata": {},
   "outputs": [
    {
     "name": "stdout",
     "output_type": "stream",
     "text": [
      "582\n",
      "1\n",
      "100\n",
      "48.5\n"
     ]
    }
   ],
   "source": [
    "print(sum(myList2))\n",
    "print(min(myList2))\n",
    "print(max(myList2))\n",
    "print(sum(myList2)/len(myList2))"
   ]
  },
  {
   "cell_type": "code",
   "execution_count": 25,
   "metadata": {},
   "outputs": [
    {
     "name": "stdout",
     "output_type": "stream",
     "text": [
      "[1, 2, 3]\n",
      "[15, 2, 3]\n",
      "[15, 2, 3]\n"
     ]
    }
   ],
   "source": [
    "dummyList=[1,2,3]\n",
    "dummyList2=dummyList\n",
    "print(dummyList)\n",
    "dummyList2[0]=15\n",
    "\n",
    "print(dummyList)\n",
    "print(dummyList2)"
   ]
  },
  {
   "cell_type": "code",
   "execution_count": null,
   "metadata": {},
   "outputs": [],
   "source": []
  },
  {
   "cell_type": "code",
   "execution_count": null,
   "metadata": {},
   "outputs": [],
   "source": []
  },
  {
   "cell_type": "markdown",
   "metadata": {},
   "source": [
    "# Copying lists"
   ]
  },
  {
   "cell_type": "markdown",
   "metadata": {},
   "source": [
    "In python assigning one list equal to another list makes both lists refer to the same object in memory"
   ]
  },
  {
   "cell_type": "code",
   "execution_count": 32,
   "metadata": {},
   "outputs": [],
   "source": [
    "myList1=myList2\n",
    "myList[0]=15\n",
    "mylist2[1]=16"
   ]
  },
  {
   "cell_type": "code",
   "execution_count": 33,
   "metadata": {},
   "outputs": [
    {
     "name": "stdout",
     "output_type": "stream",
     "text": [
      "1448649173128\n",
      "1448649173128\n"
     ]
    }
   ],
   "source": [
    "print(id(copiedList))\n",
    "print(id(myList2))"
   ]
  },
  {
   "cell_type": "markdown",
   "metadata": {},
   "source": [
    "Hence if we change a value in copiedList, myList2 will be affected as well."
   ]
  },
  {
   "cell_type": "code",
   "execution_count": 34,
   "metadata": {},
   "outputs": [
    {
     "name": "stdout",
     "output_type": "stream",
     "text": [
      "[1, 3, 4, 15, 23, 23, 23, 95, 95, 100, 100, 100]\n",
      "[5000, 3, 4, 15, 23, 23, 23, 95, 95, 100, 100, 100]\n"
     ]
    }
   ],
   "source": [
    "print(myList2)\n",
    "copiedList[0]=5000\n",
    "print(myList2)"
   ]
  },
  {
   "cell_type": "markdown",
   "metadata": {},
   "source": [
    "One of the ways to handle this is by using slicing"
   ]
  },
  {
   "cell_type": "code",
   "execution_count": 35,
   "metadata": {},
   "outputs": [
    {
     "name": "stdout",
     "output_type": "stream",
     "text": [
      "[5000, 3, 4, 15, 23, 23, 23, 95, 95, 100, 100, 100]\n",
      "[5000, 3, 4, 15, 23, 23, 23, 95, 95, 100, 100, 100]\n",
      "[6000, 3, 4, 15, 23, 23, 23, 95, 95, 100, 100, 100]\n"
     ]
    }
   ],
   "source": [
    "copiedList=myList2[:]\n",
    "#or \n",
    "# copiedList=[]+myList2\n",
    "#or\n",
    "\n",
    "copiedList=[]\n",
    "for item in myList2:\n",
    "    copiedList.append(item)\n",
    "\n",
    "\n",
    "print(myList2)\n",
    "copiedList[0]=6000\n",
    "print(myList2)\n",
    "print(copiedList)"
   ]
  },
  {
   "cell_type": "markdown",
   "metadata": {},
   "source": [
    "# Searching Element"
   ]
  },
  {
   "cell_type": "markdown",
   "metadata": {},
   "source": [
    "to find if a value is in a list, you may use the `in` keyword"
   ]
  },
  {
   "cell_type": "code",
   "execution_count": 36,
   "metadata": {},
   "outputs": [
    {
     "name": "stdout",
     "output_type": "stream",
     "text": [
      "False\n"
     ]
    }
   ],
   "source": [
    "print(50 in myList2)"
   ]
  },
  {
   "cell_type": "code",
   "execution_count": 37,
   "metadata": {},
   "outputs": [
    {
     "data": {
      "text/plain": [
       "0"
      ]
     },
     "execution_count": 37,
     "metadata": {},
     "output_type": "execute_result"
    }
   ],
   "source": [
    "myList2.count(50) "
   ]
  },
  {
   "cell_type": "markdown",
   "metadata": {},
   "source": [
    "The above statement will return how many times this value occurred in a list. If not found will return 0"
   ]
  },
  {
   "cell_type": "markdown",
   "metadata": {},
   "source": [
    "# Lists of Lists"
   ]
  },
  {
   "cell_type": "markdown",
   "metadata": {},
   "source": [
    "As we all know by now, lists are a collection of elements. ELements can be integers, floats, strings, or Booleans. Can we have an element be a list of integers?"
   ]
  },
  {
   "cell_type": "markdown",
   "metadata": {},
   "source": [
    "Such type of lists are called multidimensional lists can be used when in various scenarios. For instance, grey images are considered 2D lists. For each x and y position, we have a value representing the intensity of the pixel. Same when working with data tables such as panda data frames."
   ]
  },
  {
   "cell_type": "markdown",
   "metadata": {},
   "source": [
    "Let's assume we want to create a 2D List. This means that elements will be lists."
   ]
  },
  {
   "cell_type": "code",
   "execution_count": 31,
   "metadata": {},
   "outputs": [],
   "source": [
    "listName=[]\n",
    "listName.append([1])\n",
    "listName.append([3,4])\n",
    "listName.append([0,67])\n"
   ]
  },
  {
   "cell_type": "code",
   "execution_count": 32,
   "metadata": {},
   "outputs": [
    {
     "name": "stdout",
     "output_type": "stream",
     "text": [
      "[1, 2, 4]\n",
      "[4, 5, 6]\n",
      "[12, 15, 2]\n",
      "[[1, 2, 4], [4, 5, 6], [12, 15, 2]]\n",
      "[[1, 2, 4, 15], [4, 5, 6], [12, 15, 2]]\n"
     ]
    }
   ],
   "source": [
    "my2dList=[[1,2,4],[4,5,6],[12,15,2]]\n",
    "for i in range(0,len(my2dList)):\n",
    "    print(my2dList[i])\n",
    "\n",
    "print(my2dList)\n",
    "my2dList[0].append(15)\n",
    "print(my2dList)"
   ]
  },
  {
   "cell_type": "markdown",
   "metadata": {},
   "source": [
    "So here we are appending a list instead of a single value as what we have done previously."
   ]
  },
  {
   "cell_type": "code",
   "execution_count": 33,
   "metadata": {},
   "outputs": [
    {
     "name": "stdout",
     "output_type": "stream",
     "text": [
      "[[1], [3, 4], [0, 67]]\n"
     ]
    }
   ],
   "source": [
    "print(listName)"
   ]
  },
  {
   "cell_type": "markdown",
   "metadata": {},
   "source": [
    "As you can see each element is a list. To add values to an element, we can use the same properties of lists as before"
   ]
  },
  {
   "cell_type": "code",
   "execution_count": 34,
   "metadata": {},
   "outputs": [
    {
     "name": "stdout",
     "output_type": "stream",
     "text": [
      "[[1, 15], [3, 4], [0, 67]]\n"
     ]
    }
   ],
   "source": [
    "listName[0].append(15)\n",
    "print(listName)"
   ]
  },
  {
   "cell_type": "markdown",
   "metadata": {},
   "source": [
    "To access elements of element at index 0"
   ]
  },
  {
   "cell_type": "code",
   "execution_count": 35,
   "metadata": {},
   "outputs": [
    {
     "name": "stdout",
     "output_type": "stream",
     "text": [
      "[1, 15]\n"
     ]
    }
   ],
   "source": [
    "print(listName[0])"
   ]
  },
  {
   "cell_type": "code",
   "execution_count": 37,
   "metadata": {},
   "outputs": [
    {
     "name": "stdout",
     "output_type": "stream",
     "text": [
      "4\n"
     ]
    }
   ],
   "source": [
    "print(listName[1][1])"
   ]
  },
  {
   "cell_type": "markdown",
   "metadata": {},
   "source": [
    "You can have many lists inside of lists. However, here I showed you the 2D lists "
   ]
  },
  {
   "cell_type": "markdown",
   "metadata": {},
   "source": [
    "# Strings as Lists"
   ]
  },
  {
   "cell_type": "markdown",
   "metadata": {},
   "source": [
    "A string is can be a collection of characters such as numbers, letters, or special characters. In python, A string can be one character or multiple ones. Not ethat String are immutable."
   ]
  },
  {
   "cell_type": "markdown",
   "metadata": {},
   "source": [
    "Numerous methods are available for manipulating strings such as upper, lower, and find"
   ]
  },
  {
   "cell_type": "markdown",
   "metadata": {},
   "source": [
    "To search if a value is inside a string we can use the find function"
   ]
  },
  {
   "cell_type": "code",
   "execution_count": 41,
   "metadata": {},
   "outputs": [
    {
     "name": "stdout",
     "output_type": "stream",
     "text": [
      "I\n",
      "-1\n",
      "True\n"
     ]
    }
   ],
   "source": [
    "status= \"I love ICT 778 :)\"\n",
    "print(status[0])\n",
    "print(status.find(\"p\"))\n",
    "print(\"l\" in status)"
   ]
  },
  {
   "cell_type": "markdown",
   "metadata": {},
   "source": [
    "It returns the index of the first element of the value in the list. If not found, returns -1"
   ]
  },
  {
   "cell_type": "markdown",
   "metadata": {},
   "source": [
    "In some cases, you may want to split a string based on a specific delimiter. This is handy when working with csv files and you want to splot the columns based on the \",\" delimiter. To do we can use the split function. The split function will return a list of the values split based on the specified delimiter"
   ]
  },
  {
   "cell_type": "code",
   "execution_count": 43,
   "metadata": {},
   "outputs": [
    {
     "name": "stdout",
     "output_type": "stream",
     "text": [
      "['I', 'love ICT 778 :)']\n"
     ]
    }
   ],
   "source": [
    "splitString = status.split(\" \") #Here we are splitt status based on the space character\n",
    "print(splitString)"
   ]
  },
  {
   "cell_type": "markdown",
   "metadata": {},
   "source": [
    "To access a character in a string you can use the same way you do when working with lists. "
   ]
  },
  {
   "cell_type": "code",
   "execution_count": 46,
   "metadata": {},
   "outputs": [
    {
     "name": "stdout",
     "output_type": "stream",
     "text": [
      "l\n"
     ]
    }
   ],
   "source": [
    "print(status[2])"
   ]
  },
  {
   "cell_type": "markdown",
   "metadata": {},
   "source": [
    "To remove spaces from the leading and trailing spaces"
   ]
  },
  {
   "cell_type": "code",
   "execution_count": 49,
   "metadata": {},
   "outputs": [
    {
     "name": "stdout",
     "output_type": "stream",
     "text": [
      "    I love ICT 778 :)    \n",
      "I love ICT 778 :)\n"
     ]
    }
   ],
   "source": [
    "status= \"    I love ICT 778 :)    \"\n",
    "print(status)\n",
    "print(status.strip())"
   ]
  },
  {
   "cell_type": "markdown",
   "metadata": {},
   "source": [
    "What if I want to remove leading only? Training Only? "
   ]
  },
  {
   "cell_type": "code",
   "execution_count": 46,
   "metadata": {},
   "outputs": [
    {
     "name": "stdout",
     "output_type": "stream",
     "text": [
      "    I love ICT \n",
      "\t778 :)    \n"
     ]
    }
   ],
   "source": [
    "status= \"    I love ICT \\n\\t778 :)    \"\n",
    "print(status)\n",
    "#print(status.lstrip()) #leading only\n",
    "#print(status.rstrip()) #trailing only"
   ]
  },
  {
   "cell_type": "markdown",
   "metadata": {},
   "source": [
    "Escape Characters are characters that have a specific meaning in the text. You need to make sure you handle such characters. For instance, `\\n` indicates a new liane and `\\t` indicates a tab. We will discuss more on this topic when working with files"
   ]
  },
  {
   "cell_type": "markdown",
   "metadata": {},
   "source": [
    "# Tuples"
   ]
  },
  {
   "cell_type": "markdown",
   "metadata": {},
   "source": [
    "Tuples are comma seperated list that is immutable. Once created, the length of a tuple can't be changed."
   ]
  },
  {
   "cell_type": "code",
   "execution_count": 50,
   "metadata": {},
   "outputs": [
    {
     "name": "stdout",
     "output_type": "stream",
     "text": [
      "('Abed', 125, True, 'A', 125.6)\n"
     ]
    }
   ],
   "source": [
    "myTuple=(\"Abed\",125,True,\"A\",125.6)\n",
    "print(myTuple)\n"
   ]
  },
  {
   "cell_type": "code",
   "execution_count": 52,
   "metadata": {},
   "outputs": [
    {
     "ename": "TypeError",
     "evalue": "'tuple' object does not support item assignment",
     "output_type": "error",
     "traceback": [
      "\u001b[1;31m---------------------------------------------------------------------------\u001b[0m",
      "\u001b[1;31mTypeError\u001b[0m                                 Traceback (most recent call last)",
      "\u001b[1;32m<ipython-input-52-7a8f0d0e3247>\u001b[0m in \u001b[0;36m<module>\u001b[1;34m\u001b[0m\n\u001b[1;32m----> 1\u001b[1;33m \u001b[0mmyTuple\u001b[0m\u001b[1;33m[\u001b[0m\u001b[1;36m0\u001b[0m\u001b[1;33m]\u001b[0m\u001b[1;33m=\u001b[0m\u001b[1;36m4\u001b[0m\u001b[1;33m\u001b[0m\u001b[1;33m\u001b[0m\u001b[0m\n\u001b[0m",
      "\u001b[1;31mTypeError\u001b[0m: 'tuple' object does not support item assignment"
     ]
    }
   ],
   "source": [
    "myTuple[0]=4"
   ]
  },
  {
   "cell_type": "markdown",
   "metadata": {},
   "source": [
    "To solve this you may just access the value by index and then with slicing you store the new values in a new tuple"
   ]
  },
  {
   "cell_type": "code",
   "execution_count": 51,
   "metadata": {},
   "outputs": [
    {
     "name": "stdout",
     "output_type": "stream",
     "text": [
      "('Abed', 125, True, 4, 'A', 125.6)\n"
     ]
    }
   ],
   "source": [
    "myModifiedTuple=myTuple[:3]+(4,)+myTuple[3:]\n",
    "print(myModifiedTuple)"
   ]
  },
  {
   "cell_type": "markdown",
   "metadata": {},
   "source": [
    "We can assign variable sin tuples as well"
   ]
  },
  {
   "cell_type": "code",
   "execution_count": 47,
   "metadata": {},
   "outputs": [
    {
     "name": "stdout",
     "output_type": "stream",
     "text": [
      "30\n",
      "20\n",
      "30\n"
     ]
    }
   ],
   "source": [
    "g=15\n",
    "x,y,z=g+15,20,13\n",
    "print(x)\n",
    "print(y)\n",
    "print(x)"
   ]
  },
  {
   "cell_type": "code",
   "execution_count": null,
   "metadata": {},
   "outputs": [],
   "source": [
    "myList=[1,15,20]"
   ]
  },
  {
   "cell_type": "code",
   "execution_count": null,
   "metadata": {},
   "outputs": [],
   "source": []
  },
  {
   "cell_type": "markdown",
   "metadata": {},
   "source": [
    "# Dictionaries"
   ]
  },
  {
   "cell_type": "markdown",
   "metadata": {},
   "source": [
    "Suppose we want to store the population by City in Canada while using only one variable. How can we do that?"
   ]
  },
  {
   "cell_type": "markdown",
   "metadata": {},
   "source": [
    "Lists are a collection of elements where each element has a unique identified. This position is known as an index and it is predefined.\n"
   ]
  },
  {
   "cell_type": "markdown",
   "metadata": {},
   "source": [
    "Dictionaries are an extension of lists, except the unique identifier doesn’t need to be an integer. We can use any uniques identified to refer an element in the dictionary. We refer to the unique identifier in Dictionaries as key.\n",
    "\n",
    "Each key in the dictionary has a value.\n",
    "\n",
    "Given this information, how can we handle the population by city problem?\n"
   ]
  },
  {
   "cell_type": "markdown",
   "metadata": {},
   "source": [
    "Dictionaries are declared using the `{}`. Key-value pairs are separated by `:`"
   ]
  },
  {
   "cell_type": "code",
   "execution_count": 25,
   "metadata": {},
   "outputs": [
    {
     "name": "stdout",
     "output_type": "stream",
     "text": [
      "4.4\n"
     ]
    }
   ],
   "source": [
    "myDictionary={} #creates and emoty dictionary\n",
    "myDictionary={\"Alberta\":4.4,\"British Columbia\":5.1,\"Manitoba\":1.4,\"New Brunswick\":0.8,\"Newfoundland and Labrador\":0.52,\n",
    "             \"Northwest Territories\":0.45,\"Nova Scotia\":0.97,\"Ontario\":14.6,\"Nunavut\":0.398,\"Quebec\":8.5,\n",
    "             \"Prince Edward Island\":0.16,\"Saskatchewan\":1.2,\"Yukon\":0.36}\n",
    "print(myDictionary[\"Alberta\"])"
   ]
  },
  {
   "cell_type": "code",
   "execution_count": 58,
   "metadata": {},
   "outputs": [
    {
     "name": "stdout",
     "output_type": "stream",
     "text": [
      "{'Alberta': 5.5, 'British Columbia': 5.1, 'Manitoba': 1.4, 'New Brunswick': 0.8, 'Newfoundland and Labrador': 0.52, 'Northwest Territories': 0.45, 'Nova Scotia': 0.97, 'Ontario': 14.6, 'Nunavut': 0.398, 'Quebec': 8.5, 'Prince Edward Island': 0.16, 'Saskatchewan': 1.2, 'Yukon': 0.36}\n"
     ]
    }
   ],
   "source": [
    "myDictionary[\"Alberta\"]=5.5 #if key already exists then will update its value other wise will add this new key with related value\n",
    "print(myDictionary)"
   ]
  },
  {
   "cell_type": "code",
   "execution_count": 59,
   "metadata": {},
   "outputs": [
    {
     "name": "stdout",
     "output_type": "stream",
     "text": [
      "{'Alberta': 5.5, 'British Columbia': 5.1, 'Manitoba': 1.4, 'New Brunswick': 0.8, 'Newfoundland and Labrador': 0.52, 'Northwest Territories': 0.45, 'Nova Scotia': 0.97, 'Ontario': 14.6, 'Nunavut': 0.398, 'Quebec': 8.5, 'Prince Edward Island': 0.16, 'Saskatchewan': 1.2, 'Yukon': 0.36, 'AB': 5.5}\n"
     ]
    }
   ],
   "source": [
    "myDictionary[\"AB\"]=5.5\n",
    "print(myDictionary)"
   ]
  },
  {
   "cell_type": "code",
   "execution_count": 61,
   "metadata": {},
   "outputs": [
    {
     "ename": "KeyError",
     "evalue": "0",
     "output_type": "error",
     "traceback": [
      "\u001b[1;31m---------------------------------------------------------------------------\u001b[0m",
      "\u001b[1;31mKeyError\u001b[0m                                  Traceback (most recent call last)",
      "\u001b[1;32m<ipython-input-61-b730eb77e097>\u001b[0m in \u001b[0;36m<module>\u001b[1;34m\u001b[0m\n\u001b[1;32m----> 1\u001b[1;33m \u001b[0mmyDictionary\u001b[0m\u001b[1;33m[\u001b[0m\u001b[1;36m0\u001b[0m\u001b[1;33m]\u001b[0m\u001b[1;33m\u001b[0m\u001b[1;33m\u001b[0m\u001b[0m\n\u001b[0m",
      "\u001b[1;31mKeyError\u001b[0m: 0"
     ]
    }
   ],
   "source": [
    "myDictionary[0]"
   ]
  },
  {
   "cell_type": "code",
   "execution_count": 57,
   "metadata": {},
   "outputs": [],
   "source": [
    "del myDictionary[\"AB\"] #delete a key in my dictionary"
   ]
  },
  {
   "cell_type": "code",
   "execution_count": 58,
   "metadata": {},
   "outputs": [
    {
     "name": "stdout",
     "output_type": "stream",
     "text": [
      "{'Alberta': 5.5, 'British Columbia': 5.1, 'Manitoba': 1.4, 'New Brunswick': 0.8, 'Newfoundland and Labrador': 0.52, 'Northwest Territories': 0.45, 'Nova Scotia': 0.97, 'Ontario': 14.6, 'Nunavut': 0.398, 'Quebec': 8.5, 'Prince Edward Island': 0.16, 'Saskatchewan': 1.2, 'Yukon': 0.36}\n"
     ]
    }
   ],
   "source": [
    "print(myDictionary)"
   ]
  },
  {
   "cell_type": "markdown",
   "metadata": {},
   "source": [
    "The value in a dictionary can also be another dictionary. This can be handy when working with JSON data."
   ]
  },
  {
   "cell_type": "markdown",
   "metadata": {},
   "source": [
    "# Dictionary Methods"
   ]
  },
  {
   "cell_type": "markdown",
   "metadata": {},
   "source": [
    "As lists and strings, dictionaries are also considered an object and have their methods.\n",
    "\n",
    "To print the keys of a dictionary, you can use the keys() function"
   ]
  },
  {
   "cell_type": "code",
   "execution_count": 59,
   "metadata": {},
   "outputs": [
    {
     "name": "stdout",
     "output_type": "stream",
     "text": [
      "dict_keys(['Alberta', 'British Columbia', 'Manitoba', 'New Brunswick', 'Newfoundland and Labrador', 'Northwest Territories', 'Nova Scotia', 'Ontario', 'Nunavut', 'Quebec', 'Prince Edward Island', 'Saskatchewan', 'Yukon'])\n"
     ]
    }
   ],
   "source": [
    "print(myDictionary.keys())"
   ]
  },
  {
   "cell_type": "markdown",
   "metadata": {},
   "source": [
    "To print values of all keys, you can use the values() function"
   ]
  },
  {
   "cell_type": "code",
   "execution_count": 60,
   "metadata": {},
   "outputs": [
    {
     "name": "stdout",
     "output_type": "stream",
     "text": [
      "dict_values([5.5, 5.1, 1.4, 0.8, 0.52, 0.45, 0.97, 14.6, 0.398, 8.5, 0.16, 1.2, 0.36])\n"
     ]
    }
   ],
   "source": [
    "print(myDictionary.values())"
   ]
  },
  {
   "cell_type": "markdown",
   "metadata": {},
   "source": [
    "To print elements of a dictionary, you can use items()"
   ]
  },
  {
   "cell_type": "code",
   "execution_count": 61,
   "metadata": {},
   "outputs": [
    {
     "name": "stdout",
     "output_type": "stream",
     "text": [
      "dict_items([('Alberta', 5.5), ('British Columbia', 5.1), ('Manitoba', 1.4), ('New Brunswick', 0.8), ('Newfoundland and Labrador', 0.52), ('Northwest Territories', 0.45), ('Nova Scotia', 0.97), ('Ontario', 14.6), ('Nunavut', 0.398), ('Quebec', 8.5), ('Prince Edward Island', 0.16), ('Saskatchewan', 1.2), ('Yukon', 0.36)])\n"
     ]
    }
   ],
   "source": [
    "print(myDictionary.items())"
   ]
  },
  {
   "cell_type": "markdown",
   "metadata": {},
   "source": [
    "items() is useful when we are trying to loop over dictionary elements"
   ]
  },
  {
   "cell_type": "code",
   "execution_count": 62,
   "metadata": {},
   "outputs": [
    {
     "name": "stdout",
     "output_type": "stream",
     "text": [
      "Alberta 5.5\n",
      "British Columbia 5.1\n",
      "Manitoba 1.4\n",
      "New Brunswick 0.8\n",
      "Newfoundland and Labrador 0.52\n",
      "Northwest Territories 0.45\n",
      "Nova Scotia 0.97\n",
      "Ontario 14.6\n",
      "Nunavut 0.398\n",
      "Quebec 8.5\n",
      "Prince Edward Island 0.16\n",
      "Saskatchewan 1.2\n",
      "Yukon 0.36\n"
     ]
    }
   ],
   "source": [
    "for key, value in myDictionary.items():\n",
    "    print(key,value)"
   ]
  },
  {
   "cell_type": "code",
   "execution_count": 62,
   "metadata": {},
   "outputs": [
    {
     "name": "stdout",
     "output_type": "stream",
     "text": [
      "Alberta 5.5\n",
      "British Columbia 5.1\n",
      "Manitoba 1.4\n",
      "New Brunswick 0.8\n",
      "Newfoundland and Labrador 0.52\n",
      "Northwest Territories 0.45\n",
      "Nova Scotia 0.97\n",
      "Ontario 14.6\n",
      "Nunavut 0.398\n",
      "Quebec 8.5\n",
      "Prince Edward Island 0.16\n",
      "Saskatchewan 1.2\n",
      "Yukon 0.36\n",
      "AB 5.5\n"
     ]
    }
   ],
   "source": [
    "for key in myDictionary.keys():\n",
    "    print(key,myDictionary[key])"
   ]
  },
  {
   "cell_type": "markdown",
   "metadata": {},
   "source": [
    "# List Comprehensions"
   ]
  },
  {
   "cell_type": "markdown",
   "metadata": {},
   "source": [
    "One of the most common features in python is the list comprehension that allows creating powerful functionality in one line of code. When iteration through elemnts of a lists is unecessary we use lists comprehensions."
   ]
  },
  {
   "cell_type": "markdown",
   "metadata": {},
   "source": [
    "Assume we want to use a for loop that prints the square of a number"
   ]
  },
  {
   "cell_type": "code",
   "execution_count": 63,
   "metadata": {},
   "outputs": [
    {
     "name": "stdout",
     "output_type": "stream",
     "text": [
      "1\n",
      "4\n",
      "9\n",
      "16\n",
      "25\n",
      "36\n",
      "49\n",
      "64\n",
      "81\n"
     ]
    }
   ],
   "source": [
    "for i  in range(1,10):\n",
    "    print(i*i)"
   ]
  },
  {
   "cell_type": "markdown",
   "metadata": {},
   "source": [
    "This can be simplified to be one line by using List Comprehensions"
   ]
  },
  {
   "cell_type": "code",
   "execution_count": 23,
   "metadata": {},
   "outputs": [
    {
     "name": "stdout",
     "output_type": "stream",
     "text": [
      "[2, 4, 6, 8, 10, 12, 14, 16, 18, 20]\n"
     ]
    }
   ],
   "source": [
    "squares = [i*i for i in range(1,11)]\n",
    "print(squares)"
   ]
  },
  {
   "cell_type": "markdown",
   "metadata": {},
   "source": [
    "The syntax of a list comprehension is : [ expression for index in myList]"
   ]
  },
  {
   "cell_type": "code",
   "execution_count": 26,
   "metadata": {},
   "outputs": [
    {
     "name": "stdout",
     "output_type": "stream",
     "text": [
      "[2, 4, 6, 8, 10]\n"
     ]
    }
   ],
   "source": [
    "divisableByTwo = [i for i in range(1,11) if i%2==0]\n",
    "print(divisableByTwo)"
   ]
  },
  {
   "cell_type": "markdown",
   "metadata": {},
   "source": [
    "# Dictionary Comprehensions"
   ]
  },
  {
   "cell_type": "markdown",
   "metadata": {},
   "source": [
    "Dictionary comprehensions are very identical to the list comprehensions. The main difference is that keys should b taken from a list. Another difference is instead of using a condition  we use the `key:value`"
   ]
  },
  {
   "cell_type": "markdown",
   "metadata": {},
   "source": [
    "The syntax of dictionary comprehension is as follows: {key:value for key,value in myDictionary}"
   ]
  },
  {
   "cell_type": "code",
   "execution_count": 24,
   "metadata": {},
   "outputs": [
    {
     "name": "stdout",
     "output_type": "stream",
     "text": [
      "{'Abed': 30, 'Mike': 32, 'Alex': 40, 'Alice': 60}\n"
     ]
    }
   ],
   "source": [
    "print({k:v*2 for k,v in myDictionary.items()})"
   ]
  },
  {
   "cell_type": "code",
   "execution_count": 67,
   "metadata": {},
   "outputs": [
    {
     "name": "stdout",
     "output_type": "stream",
     "text": [
      "{'Alberta': 'Alberta', 'British Columbia': 'British Columbia', 'Manitoba': 'Manitoba', 'New Brunswick': 'New Brunswick', 'Newfoundland and Labrador': 'Newfoundland and Labrador', 'Northwest Territories': 'Northwest Territories', 'Nova Scotia': 'Nova Scotia', 'Ontario': 'Ontario', 'Nunavut': 'Nunavut', 'Quebec': 'Quebec', 'Prince Edward Island': 'Prince Edward Island', 'Saskatchewan': 'Saskatchewan', 'Yukon': 'Yukon'}\n"
     ]
    }
   ],
   "source": [
    "print({k:k for k in myDictionary})"
   ]
  },
  {
   "cell_type": "markdown",
   "metadata": {},
   "source": [
    "# Zip Function"
   ]
  },
  {
   "cell_type": "markdown",
   "metadata": {},
   "source": [
    "The zip function takes two lists and creates an iterable tuple. The elements from both lists are joined based on their index"
   ]
  },
  {
   "cell_type": "code",
   "execution_count": 32,
   "metadata": {},
   "outputs": [
    {
     "name": "stdout",
     "output_type": "stream",
     "text": [
      "<zip object at 0x0000019D33041480>\n"
     ]
    }
   ],
   "source": [
    "provinces=['Alberta','British Columbia','British Columbia','British Columbia','Newfoundland and Labrador','Northwest Territories','Nova Scotia','Ontario', 'Nunavut','Quebec','Prince Edward Island','Saskatchewan', 'Yukon']\n",
    "population=[5.5,5.1,1.4,0.8,0.52,0.45,0.97,14.6,0.398,8.5,0.16]\n",
    "print(zip(provinces,population))"
   ]
  },
  {
   "cell_type": "markdown",
   "metadata": {},
   "source": [
    "We need to transform the results to list"
   ]
  },
  {
   "cell_type": "code",
   "execution_count": 33,
   "metadata": {},
   "outputs": [
    {
     "name": "stdout",
     "output_type": "stream",
     "text": [
      "{'Alberta': 5.5, 'British Columbia': 0.8, 'Newfoundland and Labrador': 0.52, 'Northwest Territories': 0.45, 'Nova Scotia': 0.97, 'Ontario': 14.6, 'Nunavut': 0.398, 'Quebec': 8.5, 'Prince Edward Island': 0.16}\n"
     ]
    }
   ],
   "source": [
    "myZippedData=dict(zip(provinces,population))\n",
    "print(myZippedData)"
   ]
  },
  {
   "cell_type": "code",
   "execution_count": 70,
   "metadata": {},
   "outputs": [
    {
     "name": "stdout",
     "output_type": "stream",
     "text": [
      "{'Alberta': 5.5, 'British Columbia': 0.8, 'Newfoundland and Labrador': 0.52, 'Northwest Territories': 0.45, 'Nova Scotia': 0.97, 'Ontario': 14.6, 'Nunavut': 0.398, 'Quebec': 8.5, 'Prince Edward Island': 0.16, 'Saskatchewan': 1.2, 'Yukon': 0.36}\n"
     ]
    }
   ],
   "source": [
    "print({prov:pop for (prov,pop) in list(zip(provinces,population))})"
   ]
  },
  {
   "cell_type": "markdown",
   "metadata": {},
   "source": [
    "# Exercises"
   ]
  },
  {
   "cell_type": "markdown",
   "metadata": {},
   "source": [
    "1. Write a Python program that counts the number of strings with length greater than 2 and have the first and last character are the same in a list."
   ]
  },
  {
   "cell_type": "code",
   "execution_count": 66,
   "metadata": {},
   "outputs": [
    {
     "name": "stdout",
     "output_type": "stream",
     "text": [
      "Valid String\n"
     ]
    }
   ],
   "source": [
    "myString=\"Abed is Happy :A\"\n",
    "if len(myString)>2 and myString[0]==myString[-1]:\n",
    "    print(\"Valid String\")"
   ]
  },
  {
   "cell_type": "markdown",
   "metadata": {},
   "source": [
    "2. Write a Python program that detects the largest number in a list.\n"
   ]
  },
  {
   "cell_type": "code",
   "execution_count": 68,
   "metadata": {},
   "outputs": [
    {
     "name": "stdout",
     "output_type": "stream",
     "text": [
      "82\n"
     ]
    }
   ],
   "source": [
    "myList=[15,25,16,35,82,10,12,12,25,15]\n",
    "maxValue=myList[0]\n",
    "for elem in myList:\n",
    "    if elem>maxValue:\n",
    "        maxValue=elem\n",
    "\n",
    "print(maxValue)\n"
   ]
  },
  {
   "cell_type": "markdown",
   "metadata": {},
   "source": [
    "3. Given a list. Write a program that remove duplicates"
   ]
  },
  {
   "cell_type": "code",
   "execution_count": 71,
   "metadata": {},
   "outputs": [
    {
     "name": "stdout",
     "output_type": "stream",
     "text": [
      "[15, 25, 16, 35, 82, 10, 12, 12, 25, 15]\n",
      "[15, 25, 16, 35, 82, 10, 12]\n"
     ]
    }
   ],
   "source": [
    "myFilteredList=[]\n",
    "print(myList)\n",
    "for apple in myList:\n",
    "    if apple not in myFilteredList:\n",
    "        myFilteredList.append(apple)\n",
    "\n",
    "print(myFilteredList)"
   ]
  },
  {
   "cell_type": "markdown",
   "metadata": {},
   "source": [
    "4. Write a program that given a list of numbers it reverse them"
   ]
  },
  {
   "cell_type": "code",
   "execution_count": 75,
   "metadata": {},
   "outputs": [
    {
     "name": "stdout",
     "output_type": "stream",
     "text": [
      "[12, 14, 13, 25, 15, 20, 15]\n"
     ]
    }
   ],
   "source": [
    "mylList=[15,20,15,25,13,14,12]\n",
    "reveresedList=[]\n",
    "counter=0\n",
    "#len(mylList)-1: start at the last elemnt\n",
    "# second parameter (-1): which means stop at index -1. We put -1 because we need element at index 0 to be included\n",
    "#Third elemnt is -1 which is the necrement. So evrtime will deceremnt 1 from the starting position until it reachese index -1\n",
    "for i in range(len(mylList)-1,-1,-1):\n",
    "    reveresedList.insert(counter,mylList[i])\n",
    "    counter=counter+1\n",
    "\n",
    "print(reveresedList)"
   ]
  },
  {
   "cell_type": "markdown",
   "metadata": {},
   "source": [
    "5. The local driver’s license office has asked you to create an application that grades the written portion of the driver’s license exam. The exam has 10 multiple choice questions. Here are the correct answers\n",
    "\n",
    "                                        1-A    6-B\n",
    "                                        2-C    7-C\n",
    "                                        3-A    8-A\n",
    "                                        4-A    9-C\n",
    "                                        5-D    10-D\n",
    "\n",
    "\n",
    "Your program should store the correct answers in a list. The program should read the student’s answer for each of the 20 questions. Your program should output if this student failed or passed the exam along with number of correctly and incorrectly answered questions. To pass the exam the student must answer correctly 5 out of 10 questions.\n",
    "\n",
    "Use Only Lists to Solve this problem\n"
   ]
  },
  {
   "cell_type": "code",
   "execution_count": 10,
   "metadata": {},
   "outputs": [
    {
     "name": "stdout",
     "output_type": "stream",
     "text": [
      "Please enter letter grades for question 1 : 15\n",
      "Please enter letter grades for question 2 : 10\n",
      "Please enter letter grades for question 3 : A\n",
      "Please enter letter grades for question 4 : A\n",
      "Please enter letter grades for question 5 : 0\n",
      "Please enter letter grades for question 6 : 0\n",
      "Please enter letter grades for question 7 : 0\n",
      "Please enter letter grades for question 8 : 0\n",
      "Please enter letter grades for question 9 : 0\n",
      "Please enter letter grades for question 10 : 0\n",
      "['A', 'C', 'A', 'A', 'D', 'B', 'C', 'A', 'C', 'D']\n",
      "['15', '10', 'A', 'A', '0', '0', '0', '0', '0', '0']\n",
      "Your grade is  2\n"
     ]
    }
   ],
   "source": [
    "answers=[\"A\",\"C\",\"A\",\"A\",\"D\",\"B\",\"C\",\"A\",\"C\",\"D\"]\n",
    "userAnswers=[]\n",
    "\n",
    "for i in range (1,11):\n",
    "    userAnswer=input(\"Please enter letter grades for question \"+str(i)+\" : \")\n",
    "    userAnswers.append(userAnswer)\n",
    "    \n",
    "studentGrade=0\n",
    "for i in range(0,len(userAnswers)):\n",
    "    if userAnswers[i]==answers[i]:\n",
    "        studentGrade=studentGrade+1\n",
    "\n",
    "print(answers)\n",
    "print(userAnswers)\n",
    "\n",
    "print(\"Your grade is \", studentGrade)\n",
    "    \n",
    "    \n"
   ]
  },
  {
   "cell_type": "code",
   "execution_count": null,
   "metadata": {},
   "outputs": [],
   "source": []
  },
  {
   "cell_type": "markdown",
   "metadata": {},
   "source": [
    "6. Write a Program that Creates a Random 4 x 4 Boggle Board in a List of Lists of Letters and Displays it to the Console/Terminal\n",
    "\n",
    "                                        A    K   L   M\n",
    "                                        F    P   T   X\n",
    "                                        L    M   N   Y\n",
    "                                        J    I   F   O\n",
    "Use only lists to solve this problem"
   ]
  },
  {
   "cell_type": "code",
   "execution_count": 19,
   "metadata": {},
   "outputs": [
    {
     "name": "stdout",
     "output_type": "stream",
     "text": [
      "['W', 'S', 'C', 'I']\n",
      "\n",
      "['Q', 'N', 'E', 'J']\n",
      "\n",
      "['Q', 'U', 'G', 'D']\n",
      "\n",
      "['B', 'V', 'G', 'R']\n",
      "\n",
      "[['W', 'S', 'C', 'I'], ['Q', 'N', 'E', 'J'], ['Q', 'U', 'G', 'D'], ['B', 'V', 'G', 'R']]\n"
     ]
    }
   ],
   "source": [
    "import random\n",
    "myString=\"ABCDEFGHIJKLMNOPQRSTUVWXYZ\"\n",
    "\n",
    "myList=[[],[],[],[]]\n",
    "\n",
    "for i in range (0,len(myList)):   \n",
    "    for j in range (0,4):\n",
    "        myRandint=random.randint(0,25)\n",
    "        myList[i].append(myString[myRandint])\n",
    "        \n",
    "for i in range(0,len(myList)):\n",
    "    for j in range(0,len(myList[i])):\n",
    "        print(myList[i])\n",
    "    print()\n",
    "\n",
    "print(myList)\n"
   ]
  },
  {
   "cell_type": "markdown",
   "metadata": {},
   "source": [
    "7. Write a Function with a Single String Argument and Returns True If and Only If the String:\n",
    "\n",
    "    * is at least eight characters long\n",
    "    * contains at least one uppercase letter \n",
    "    * contains at least one lower case letter \n",
    "    * contains at least one numeric digit\n",
    "\n",
    "\n"
   ]
  },
  {
   "cell_type": "markdown",
   "metadata": {},
   "source": [
    "8. Write a program that asks the user for the population of provinces. User should keep entering until a ‘q’ is pressed. Store user input in a dictionary\n"
   ]
  },
  {
   "cell_type": "code",
   "execution_count": 3,
   "metadata": {},
   "outputs": [
    {
     "name": "stdout",
     "output_type": "stream",
     "text": [
      "Please enter province name. Enter q to quit: Alberta\n",
      "Please enter the population of Alberta : 25\n",
      "Please enter province name. Enter q to quit: q\n"
     ]
    }
   ],
   "source": [
    "province=input(\"Please enter province name. Enter q to quit: \")\n",
    "\n",
    "provincesPop={}\n",
    "while province.lower()!=\"q\":\n",
    "    population=int(input(\"Please enter the population of \"+province+\" : \"))\n",
    "    provincesPop[province]=population\n",
    "    province=input(\"Please enter province name. Enter q to quit: \")\n",
    "    "
   ]
  },
  {
   "cell_type": "markdown",
   "metadata": {},
   "source": [
    "9. Extend the program so that the user can lookup or delete a specific key. AT the begiining user should be given a list of choices and then need to select whihc one they need to do (add, remove, find)\n"
   ]
  },
  {
   "cell_type": "code",
   "execution_count": null,
   "metadata": {},
   "outputs": [],
   "source": [
    "option=input(\"Please select on of the following options (type q to exit): \\n \\t 1- Add new province and population \\n\\t 2- Remove a province \\n\\t 3- Retrieve province population \\n Option: \")\n",
    "\n",
    "provincesPop={}\n",
    "\n",
    "while option.lower() !=\"q\":\n",
    "    province=input(\"Please enter province name\")\n",
    "    if option==\"1\":        \n",
    "        population=int(input(\"Please enter the population of \"+province+\" : \"))\n",
    "        provincesPop[province]=population\n",
    "    elif option==\"2\":\n",
    "        del provincesPop[province]\n",
    "    elif option==\"3\":\n",
    "        print(\"The population of \",province,\" is \", provincesPop[province])\n",
    "    option=input(\"Please select on of the following options (type q to exit): \\n \\t 1- Add new province and population \\n\\t 2- Remove a province \\n\\t 3- Retrieve province population  \\n Option: \")\n",
    "\n",
    "                   \n",
    "        \n",
    "        "
   ]
  },
  {
   "cell_type": "markdown",
   "metadata": {},
   "source": [
    "10. Extend the program so that the user can also view the entire dictionary. Now the user has four options (add, remove, find, or view)"
   ]
  },
  {
   "cell_type": "code",
   "execution_count": 22,
   "metadata": {},
   "outputs": [
    {
     "data": {
      "text/plain": [
       "15"
      ]
     },
     "execution_count": 22,
     "metadata": {},
     "output_type": "execute_result"
    }
   ],
   "source": [
    "#Additional Exercise\n",
    "myDictionary={\"Abed\":15,\"Mike\":16,\"Alex\":20,\"Alice\":30}\n",
    "print(myDictionary[\"Mike\"])\n",
    "\n",
    "print(myDictionary[\"Abed\"])"
   ]
  },
  {
   "cell_type": "code",
   "execution_count": null,
   "metadata": {},
   "outputs": [],
   "source": [
    "#Additional Exercise\n",
    "myLits=[]\n",
    "userInput=input(\"Please enter a vlaue. Press q to exit\")\n",
    "while userInput!=\"q\":\n",
    "    myList.aapned(userInput)\n",
    "    userInput=input(\"Please enter a vlaue. Press q to exit\")\n",
    "    "
   ]
  }
 ],
 "metadata": {
  "kernelspec": {
   "display_name": "Python 3 (ipykernel)",
   "language": "python",
   "name": "python3"
  },
  "language_info": {
   "codemirror_mode": {
    "name": "ipython",
    "version": 3
   },
   "file_extension": ".py",
   "mimetype": "text/x-python",
   "name": "python",
   "nbconvert_exporter": "python",
   "pygments_lexer": "ipython3",
   "version": "3.8.11"
  }
 },
 "nbformat": 4,
 "nbformat_minor": 2
}
